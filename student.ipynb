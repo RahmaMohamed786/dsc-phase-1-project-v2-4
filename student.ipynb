{
 "cells": [
  {
   "cell_type": "markdown",
   "metadata": {},
   "source": [
    "# Final Project Submission\n",
    "\n",
    "\n",
    "* Student name:Rahma Mohamed\n",
    "* Student pace: part time\n",
    "* Scheduled project review date/time: 16/4/2023\n",
    "* Instructor name: Everlyn Asiko\n",
    "* Blog post URL:"
   ]
  },
  {
   "cell_type": "markdown",
   "metadata": {},
   "source": [
    "### Microsoft sees all the big companies creating original video content and they want to get in on the fun. They have decided to create a new movie studio, but they don’t know anything about creating movies. You are charged with exploring what types of films are currently doing the best at the box office. You must then translate those findings into actionable insights that the head of Microsoft's new movie studio can use to help decide what type of films to create.\n",
    "\n",
    "### This analysis will focus on how to get the most revenue from the movies made"
   ]
  },
  {
   "cell_type": "markdown",
   "metadata": {},
   "source": [
    "## 1) Importing Libraries"
   ]
  },
  {
   "cell_type": "code",
   "execution_count": 1,
   "metadata": {},
   "outputs": [],
   "source": [
    "import pandas as pd\n",
    "import numpy as np\n",
    "import matplotlib.pyplot as plt\n",
    "import sqlite3 as db\n",
    "import seaborn as sns\n",
    "%matplotlib inline"
   ]
  },
  {
   "cell_type": "markdown",
   "metadata": {},
   "source": [
    "## 2)Reading Datasets"
   ]
  },
  {
   "cell_type": "markdown",
   "metadata": {},
   "source": [
    "1) SQL"
   ]
  },
  {
   "cell_type": "code",
   "execution_count": 2,
   "metadata": {},
   "outputs": [
    {
     "data": {
      "text/plain": [
       "[('movie_basics',),\n",
       " ('directors',),\n",
       " ('known_for',),\n",
       " ('movie_akas',),\n",
       " ('movie_ratings',),\n",
       " ('persons',),\n",
       " ('principals',),\n",
       " ('writers',)]"
      ]
     },
     "execution_count": 2,
     "metadata": {},
     "output_type": "execute_result"
    }
   ],
   "source": [
    "conn = db.connect(\"zippedData/im.db\")\n",
    "cursor=conn.cursor()\n",
    "cursor.execute(\"SELECT name FROM sqlite_master WHERE type = 'table';\")\n",
    "my_tables= cursor.fetchall()\n",
    "my_tables"
   ]
  },
  {
   "cell_type": "code",
   "execution_count": 3,
   "metadata": {},
   "outputs": [],
   "source": [
    "imdb_data = pd.read_sql(\"\"\"SELECT * FROM movie_basics  JOIN movie_ratings USING(movie_id);\"\"\", conn)"
   ]
  },
  {
   "cell_type": "markdown",
   "metadata": {},
   "source": [
    "2) The Numbers"
   ]
  },
  {
   "cell_type": "code",
   "execution_count": 4,
   "metadata": {},
   "outputs": [],
   "source": [
    "tn_data = pd.read_csv(\"zippedData/tn.movie_budgets.csv.gz\", index_col=0)"
   ]
  },
  {
   "cell_type": "markdown",
   "metadata": {},
   "source": [
    "3) BOX Office mojo"
   ]
  },
  {
   "cell_type": "code",
   "execution_count": 5,
   "metadata": {},
   "outputs": [],
   "source": [
    "bom_data= pd.read_csv(\"zippedData/bom.movie_gross.csv.gz\", index_col=0)"
   ]
  },
  {
   "cell_type": "markdown",
   "metadata": {},
   "source": [
    "# 3) Cleaning Datasets"
   ]
  },
  {
   "cell_type": "markdown",
   "metadata": {},
   "source": [
    "### Box office mojo"
   ]
  },
  {
   "cell_type": "code",
   "execution_count": 6,
   "metadata": {},
   "outputs": [
    {
     "data": {
      "text/html": [
       "<div>\n",
       "<style scoped>\n",
       "    .dataframe tbody tr th:only-of-type {\n",
       "        vertical-align: middle;\n",
       "    }\n",
       "\n",
       "    .dataframe tbody tr th {\n",
       "        vertical-align: top;\n",
       "    }\n",
       "\n",
       "    .dataframe thead th {\n",
       "        text-align: right;\n",
       "    }\n",
       "</style>\n",
       "<table border=\"1\" class=\"dataframe\">\n",
       "  <thead>\n",
       "    <tr style=\"text-align: right;\">\n",
       "      <th></th>\n",
       "      <th>studio</th>\n",
       "      <th>domestic_gross</th>\n",
       "      <th>foreign_gross</th>\n",
       "      <th>year</th>\n",
       "    </tr>\n",
       "    <tr>\n",
       "      <th>title</th>\n",
       "      <th></th>\n",
       "      <th></th>\n",
       "      <th></th>\n",
       "      <th></th>\n",
       "    </tr>\n",
       "  </thead>\n",
       "  <tbody>\n",
       "    <tr>\n",
       "      <th>Toy Story 3</th>\n",
       "      <td>BV</td>\n",
       "      <td>415000000.0</td>\n",
       "      <td>652000000</td>\n",
       "      <td>2010</td>\n",
       "    </tr>\n",
       "    <tr>\n",
       "      <th>Alice in Wonderland (2010)</th>\n",
       "      <td>BV</td>\n",
       "      <td>334200000.0</td>\n",
       "      <td>691300000</td>\n",
       "      <td>2010</td>\n",
       "    </tr>\n",
       "    <tr>\n",
       "      <th>Harry Potter and the Deathly Hallows Part 1</th>\n",
       "      <td>WB</td>\n",
       "      <td>296000000.0</td>\n",
       "      <td>664300000</td>\n",
       "      <td>2010</td>\n",
       "    </tr>\n",
       "    <tr>\n",
       "      <th>Inception</th>\n",
       "      <td>WB</td>\n",
       "      <td>292600000.0</td>\n",
       "      <td>535700000</td>\n",
       "      <td>2010</td>\n",
       "    </tr>\n",
       "    <tr>\n",
       "      <th>Shrek Forever After</th>\n",
       "      <td>P/DW</td>\n",
       "      <td>238700000.0</td>\n",
       "      <td>513900000</td>\n",
       "      <td>2010</td>\n",
       "    </tr>\n",
       "  </tbody>\n",
       "</table>\n",
       "</div>"
      ],
      "text/plain": [
       "                                            studio  domestic_gross  \\\n",
       "title                                                                \n",
       "Toy Story 3                                     BV     415000000.0   \n",
       "Alice in Wonderland (2010)                      BV     334200000.0   \n",
       "Harry Potter and the Deathly Hallows Part 1     WB     296000000.0   \n",
       "Inception                                       WB     292600000.0   \n",
       "Shrek Forever After                           P/DW     238700000.0   \n",
       "\n",
       "                                            foreign_gross  year  \n",
       "title                                                            \n",
       "Toy Story 3                                     652000000  2010  \n",
       "Alice in Wonderland (2010)                      691300000  2010  \n",
       "Harry Potter and the Deathly Hallows Part 1     664300000  2010  \n",
       "Inception                                       535700000  2010  \n",
       "Shrek Forever After                             513900000  2010  "
      ]
     },
     "execution_count": 6,
     "metadata": {},
     "output_type": "execute_result"
    }
   ],
   "source": [
    "bom_data.head()"
   ]
  },
  {
   "cell_type": "code",
   "execution_count": 7,
   "metadata": {},
   "outputs": [
    {
     "data": {
      "text/plain": [
       "Index(['studio', 'domestic_gross', 'foreign_gross', 'year'], dtype='object')"
      ]
     },
     "execution_count": 7,
     "metadata": {},
     "output_type": "execute_result"
    }
   ],
   "source": [
    "bom_data.columns"
   ]
  },
  {
   "cell_type": "code",
   "execution_count": 8,
   "metadata": {},
   "outputs": [
    {
     "name": "stdout",
     "output_type": "stream",
     "text": [
      "<class 'pandas.core.frame.DataFrame'>\n",
      "Index: 3387 entries, Toy Story 3 to An Actor Prepares\n",
      "Data columns (total 4 columns):\n",
      " #   Column          Non-Null Count  Dtype  \n",
      "---  ------          --------------  -----  \n",
      " 0   studio          3382 non-null   object \n",
      " 1   domestic_gross  3359 non-null   float64\n",
      " 2   foreign_gross   2037 non-null   object \n",
      " 3   year            3387 non-null   int64  \n",
      "dtypes: float64(1), int64(1), object(2)\n",
      "memory usage: 132.3+ KB\n"
     ]
    }
   ],
   "source": [
    "bom_data.info()"
   ]
  },
  {
   "cell_type": "markdown",
   "metadata": {},
   "source": [
    "Foreign gross has missing values, let's check them"
   ]
  },
  {
   "cell_type": "code",
   "execution_count": 9,
   "metadata": {},
   "outputs": [
    {
     "data": {
      "text/html": [
       "<div>\n",
       "<style scoped>\n",
       "    .dataframe tbody tr th:only-of-type {\n",
       "        vertical-align: middle;\n",
       "    }\n",
       "\n",
       "    .dataframe tbody tr th {\n",
       "        vertical-align: top;\n",
       "    }\n",
       "\n",
       "    .dataframe thead th {\n",
       "        text-align: right;\n",
       "    }\n",
       "</style>\n",
       "<table border=\"1\" class=\"dataframe\">\n",
       "  <thead>\n",
       "    <tr style=\"text-align: right;\">\n",
       "      <th></th>\n",
       "      <th>studio</th>\n",
       "      <th>domestic_gross</th>\n",
       "      <th>foreign_gross</th>\n",
       "      <th>year</th>\n",
       "    </tr>\n",
       "    <tr>\n",
       "      <th>title</th>\n",
       "      <th></th>\n",
       "      <th></th>\n",
       "      <th></th>\n",
       "      <th></th>\n",
       "    </tr>\n",
       "  </thead>\n",
       "  <tbody>\n",
       "    <tr>\n",
       "      <th>Flipped</th>\n",
       "      <td>WB</td>\n",
       "      <td>1800000.0</td>\n",
       "      <td>NaN</td>\n",
       "      <td>2010</td>\n",
       "    </tr>\n",
       "    <tr>\n",
       "      <th>The Polar Express (IMAX re-issue 2010)</th>\n",
       "      <td>WB</td>\n",
       "      <td>673000.0</td>\n",
       "      <td>NaN</td>\n",
       "      <td>2010</td>\n",
       "    </tr>\n",
       "    <tr>\n",
       "      <th>Tiny Furniture</th>\n",
       "      <td>IFC</td>\n",
       "      <td>392000.0</td>\n",
       "      <td>NaN</td>\n",
       "      <td>2010</td>\n",
       "    </tr>\n",
       "    <tr>\n",
       "      <th>Grease (Sing-a-Long re-issue)</th>\n",
       "      <td>Par.</td>\n",
       "      <td>366000.0</td>\n",
       "      <td>NaN</td>\n",
       "      <td>2010</td>\n",
       "    </tr>\n",
       "    <tr>\n",
       "      <th>Last Train Home</th>\n",
       "      <td>Zeit.</td>\n",
       "      <td>288000.0</td>\n",
       "      <td>NaN</td>\n",
       "      <td>2010</td>\n",
       "    </tr>\n",
       "    <tr>\n",
       "      <th>...</th>\n",
       "      <td>...</td>\n",
       "      <td>...</td>\n",
       "      <td>...</td>\n",
       "      <td>...</td>\n",
       "    </tr>\n",
       "    <tr>\n",
       "      <th>The Quake</th>\n",
       "      <td>Magn.</td>\n",
       "      <td>6200.0</td>\n",
       "      <td>NaN</td>\n",
       "      <td>2018</td>\n",
       "    </tr>\n",
       "    <tr>\n",
       "      <th>Edward II (2018 re-release)</th>\n",
       "      <td>FM</td>\n",
       "      <td>4800.0</td>\n",
       "      <td>NaN</td>\n",
       "      <td>2018</td>\n",
       "    </tr>\n",
       "    <tr>\n",
       "      <th>El Pacto</th>\n",
       "      <td>Sony</td>\n",
       "      <td>2500.0</td>\n",
       "      <td>NaN</td>\n",
       "      <td>2018</td>\n",
       "    </tr>\n",
       "    <tr>\n",
       "      <th>The Swan</th>\n",
       "      <td>Synergetic</td>\n",
       "      <td>2400.0</td>\n",
       "      <td>NaN</td>\n",
       "      <td>2018</td>\n",
       "    </tr>\n",
       "    <tr>\n",
       "      <th>An Actor Prepares</th>\n",
       "      <td>Grav.</td>\n",
       "      <td>1700.0</td>\n",
       "      <td>NaN</td>\n",
       "      <td>2018</td>\n",
       "    </tr>\n",
       "  </tbody>\n",
       "</table>\n",
       "<p>1350 rows × 4 columns</p>\n",
       "</div>"
      ],
      "text/plain": [
       "                                            studio  domestic_gross  \\\n",
       "title                                                                \n",
       "Flipped                                         WB       1800000.0   \n",
       "The Polar Express (IMAX re-issue 2010)          WB        673000.0   \n",
       "Tiny Furniture                                 IFC        392000.0   \n",
       "Grease (Sing-a-Long re-issue)                 Par.        366000.0   \n",
       "Last Train Home                              Zeit.        288000.0   \n",
       "...                                            ...             ...   \n",
       "The Quake                                    Magn.          6200.0   \n",
       "Edward II (2018 re-release)                     FM          4800.0   \n",
       "El Pacto                                      Sony          2500.0   \n",
       "The Swan                                Synergetic          2400.0   \n",
       "An Actor Prepares                            Grav.          1700.0   \n",
       "\n",
       "                                       foreign_gross  year  \n",
       "title                                                       \n",
       "Flipped                                          NaN  2010  \n",
       "The Polar Express (IMAX re-issue 2010)           NaN  2010  \n",
       "Tiny Furniture                                   NaN  2010  \n",
       "Grease (Sing-a-Long re-issue)                    NaN  2010  \n",
       "Last Train Home                                  NaN  2010  \n",
       "...                                              ...   ...  \n",
       "The Quake                                        NaN  2018  \n",
       "Edward II (2018 re-release)                      NaN  2018  \n",
       "El Pacto                                         NaN  2018  \n",
       "The Swan                                         NaN  2018  \n",
       "An Actor Prepares                                NaN  2018  \n",
       "\n",
       "[1350 rows x 4 columns]"
      ]
     },
     "execution_count": 9,
     "metadata": {},
     "output_type": "execute_result"
    }
   ],
   "source": [
    "bom_data[bom_data[\"foreign_gross\"].isna()]"
   ]
  },
  {
   "cell_type": "code",
   "execution_count": 10,
   "metadata": {},
   "outputs": [
    {
     "data": {
      "text/plain": [
       "studio            0.001476\n",
       "domestic_gross    0.008267\n",
       "foreign_gross     0.398583\n",
       "year              0.000000\n",
       "dtype: float64"
      ]
     },
     "execution_count": 10,
     "metadata": {},
     "output_type": "execute_result"
    }
   ],
   "source": [
    "# percentage of missing values in columns\n",
    "bom_data.isna().sum()/len(bom_data)"
   ]
  },
  {
   "cell_type": "markdown",
   "metadata": {},
   "source": [
    "foreign gross has 39% missing values, we can drop it"
   ]
  },
  {
   "cell_type": "code",
   "execution_count": 11,
   "metadata": {},
   "outputs": [],
   "source": [
    "bom_data.drop(columns=[\"foreign_gross\"], inplace=True)"
   ]
  },
  {
   "cell_type": "code",
   "execution_count": 12,
   "metadata": {},
   "outputs": [],
   "source": [
    "bom_data.dropna(inplace=True)"
   ]
  },
  {
   "cell_type": "code",
   "execution_count": 13,
   "metadata": {},
   "outputs": [
    {
     "data": {
      "text/html": [
       "<div>\n",
       "<style scoped>\n",
       "    .dataframe tbody tr th:only-of-type {\n",
       "        vertical-align: middle;\n",
       "    }\n",
       "\n",
       "    .dataframe tbody tr th {\n",
       "        vertical-align: top;\n",
       "    }\n",
       "\n",
       "    .dataframe thead th {\n",
       "        text-align: right;\n",
       "    }\n",
       "</style>\n",
       "<table border=\"1\" class=\"dataframe\">\n",
       "  <thead>\n",
       "    <tr style=\"text-align: right;\">\n",
       "      <th></th>\n",
       "      <th>studio</th>\n",
       "      <th>domestic_gross</th>\n",
       "      <th>year</th>\n",
       "    </tr>\n",
       "    <tr>\n",
       "      <th>title</th>\n",
       "      <th></th>\n",
       "      <th></th>\n",
       "      <th></th>\n",
       "    </tr>\n",
       "  </thead>\n",
       "  <tbody>\n",
       "    <tr>\n",
       "      <th>Toy Story 3</th>\n",
       "      <td>BV</td>\n",
       "      <td>415000000.0</td>\n",
       "      <td>2010</td>\n",
       "    </tr>\n",
       "    <tr>\n",
       "      <th>Alice in Wonderland (2010)</th>\n",
       "      <td>BV</td>\n",
       "      <td>334200000.0</td>\n",
       "      <td>2010</td>\n",
       "    </tr>\n",
       "    <tr>\n",
       "      <th>Harry Potter and the Deathly Hallows Part 1</th>\n",
       "      <td>WB</td>\n",
       "      <td>296000000.0</td>\n",
       "      <td>2010</td>\n",
       "    </tr>\n",
       "    <tr>\n",
       "      <th>Inception</th>\n",
       "      <td>WB</td>\n",
       "      <td>292600000.0</td>\n",
       "      <td>2010</td>\n",
       "    </tr>\n",
       "    <tr>\n",
       "      <th>Shrek Forever After</th>\n",
       "      <td>P/DW</td>\n",
       "      <td>238700000.0</td>\n",
       "      <td>2010</td>\n",
       "    </tr>\n",
       "    <tr>\n",
       "      <th>...</th>\n",
       "      <td>...</td>\n",
       "      <td>...</td>\n",
       "      <td>...</td>\n",
       "    </tr>\n",
       "    <tr>\n",
       "      <th>The Quake</th>\n",
       "      <td>Magn.</td>\n",
       "      <td>6200.0</td>\n",
       "      <td>2018</td>\n",
       "    </tr>\n",
       "    <tr>\n",
       "      <th>Edward II (2018 re-release)</th>\n",
       "      <td>FM</td>\n",
       "      <td>4800.0</td>\n",
       "      <td>2018</td>\n",
       "    </tr>\n",
       "    <tr>\n",
       "      <th>El Pacto</th>\n",
       "      <td>Sony</td>\n",
       "      <td>2500.0</td>\n",
       "      <td>2018</td>\n",
       "    </tr>\n",
       "    <tr>\n",
       "      <th>The Swan</th>\n",
       "      <td>Synergetic</td>\n",
       "      <td>2400.0</td>\n",
       "      <td>2018</td>\n",
       "    </tr>\n",
       "    <tr>\n",
       "      <th>An Actor Prepares</th>\n",
       "      <td>Grav.</td>\n",
       "      <td>1700.0</td>\n",
       "      <td>2018</td>\n",
       "    </tr>\n",
       "  </tbody>\n",
       "</table>\n",
       "<p>3356 rows × 3 columns</p>\n",
       "</div>"
      ],
      "text/plain": [
       "                                                 studio  domestic_gross  year\n",
       "title                                                                        \n",
       "Toy Story 3                                          BV     415000000.0  2010\n",
       "Alice in Wonderland (2010)                           BV     334200000.0  2010\n",
       "Harry Potter and the Deathly Hallows Part 1          WB     296000000.0  2010\n",
       "Inception                                            WB     292600000.0  2010\n",
       "Shrek Forever After                                P/DW     238700000.0  2010\n",
       "...                                                 ...             ...   ...\n",
       "The Quake                                         Magn.          6200.0  2018\n",
       "Edward II (2018 re-release)                          FM          4800.0  2018\n",
       "El Pacto                                           Sony          2500.0  2018\n",
       "The Swan                                     Synergetic          2400.0  2018\n",
       "An Actor Prepares                                 Grav.          1700.0  2018\n",
       "\n",
       "[3356 rows x 3 columns]"
      ]
     },
     "execution_count": 13,
     "metadata": {},
     "output_type": "execute_result"
    }
   ],
   "source": [
    "bom_data"
   ]
  },
  {
   "cell_type": "markdown",
   "metadata": {},
   "source": [
    "### IMDB"
   ]
  },
  {
   "cell_type": "code",
   "execution_count": 14,
   "metadata": {},
   "outputs": [
    {
     "data": {
      "text/html": [
       "<div>\n",
       "<style scoped>\n",
       "    .dataframe tbody tr th:only-of-type {\n",
       "        vertical-align: middle;\n",
       "    }\n",
       "\n",
       "    .dataframe tbody tr th {\n",
       "        vertical-align: top;\n",
       "    }\n",
       "\n",
       "    .dataframe thead th {\n",
       "        text-align: right;\n",
       "    }\n",
       "</style>\n",
       "<table border=\"1\" class=\"dataframe\">\n",
       "  <thead>\n",
       "    <tr style=\"text-align: right;\">\n",
       "      <th></th>\n",
       "      <th>movie_id</th>\n",
       "      <th>primary_title</th>\n",
       "      <th>original_title</th>\n",
       "      <th>start_year</th>\n",
       "      <th>runtime_minutes</th>\n",
       "      <th>genres</th>\n",
       "      <th>averagerating</th>\n",
       "      <th>numvotes</th>\n",
       "    </tr>\n",
       "  </thead>\n",
       "  <tbody>\n",
       "    <tr>\n",
       "      <th>0</th>\n",
       "      <td>tt0063540</td>\n",
       "      <td>Sunghursh</td>\n",
       "      <td>Sunghursh</td>\n",
       "      <td>2013</td>\n",
       "      <td>175.0</td>\n",
       "      <td>Action,Crime,Drama</td>\n",
       "      <td>7.0</td>\n",
       "      <td>77</td>\n",
       "    </tr>\n",
       "    <tr>\n",
       "      <th>1</th>\n",
       "      <td>tt0066787</td>\n",
       "      <td>One Day Before the Rainy Season</td>\n",
       "      <td>Ashad Ka Ek Din</td>\n",
       "      <td>2019</td>\n",
       "      <td>114.0</td>\n",
       "      <td>Biography,Drama</td>\n",
       "      <td>7.2</td>\n",
       "      <td>43</td>\n",
       "    </tr>\n",
       "    <tr>\n",
       "      <th>2</th>\n",
       "      <td>tt0069049</td>\n",
       "      <td>The Other Side of the Wind</td>\n",
       "      <td>The Other Side of the Wind</td>\n",
       "      <td>2018</td>\n",
       "      <td>122.0</td>\n",
       "      <td>Drama</td>\n",
       "      <td>6.9</td>\n",
       "      <td>4517</td>\n",
       "    </tr>\n",
       "    <tr>\n",
       "      <th>3</th>\n",
       "      <td>tt0069204</td>\n",
       "      <td>Sabse Bada Sukh</td>\n",
       "      <td>Sabse Bada Sukh</td>\n",
       "      <td>2018</td>\n",
       "      <td>NaN</td>\n",
       "      <td>Comedy,Drama</td>\n",
       "      <td>6.1</td>\n",
       "      <td>13</td>\n",
       "    </tr>\n",
       "    <tr>\n",
       "      <th>4</th>\n",
       "      <td>tt0100275</td>\n",
       "      <td>The Wandering Soap Opera</td>\n",
       "      <td>La Telenovela Errante</td>\n",
       "      <td>2017</td>\n",
       "      <td>80.0</td>\n",
       "      <td>Comedy,Drama,Fantasy</td>\n",
       "      <td>6.5</td>\n",
       "      <td>119</td>\n",
       "    </tr>\n",
       "  </tbody>\n",
       "</table>\n",
       "</div>"
      ],
      "text/plain": [
       "    movie_id                    primary_title              original_title  \\\n",
       "0  tt0063540                        Sunghursh                   Sunghursh   \n",
       "1  tt0066787  One Day Before the Rainy Season             Ashad Ka Ek Din   \n",
       "2  tt0069049       The Other Side of the Wind  The Other Side of the Wind   \n",
       "3  tt0069204                  Sabse Bada Sukh             Sabse Bada Sukh   \n",
       "4  tt0100275         The Wandering Soap Opera       La Telenovela Errante   \n",
       "\n",
       "   start_year  runtime_minutes                genres  averagerating  numvotes  \n",
       "0        2013            175.0    Action,Crime,Drama            7.0        77  \n",
       "1        2019            114.0       Biography,Drama            7.2        43  \n",
       "2        2018            122.0                 Drama            6.9      4517  \n",
       "3        2018              NaN          Comedy,Drama            6.1        13  \n",
       "4        2017             80.0  Comedy,Drama,Fantasy            6.5       119  "
      ]
     },
     "execution_count": 14,
     "metadata": {},
     "output_type": "execute_result"
    }
   ],
   "source": [
    "imdb_data.head()"
   ]
  },
  {
   "cell_type": "code",
   "execution_count": 15,
   "metadata": {},
   "outputs": [
    {
     "data": {
      "text/html": [
       "<div>\n",
       "<style scoped>\n",
       "    .dataframe tbody tr th:only-of-type {\n",
       "        vertical-align: middle;\n",
       "    }\n",
       "\n",
       "    .dataframe tbody tr th {\n",
       "        vertical-align: top;\n",
       "    }\n",
       "\n",
       "    .dataframe thead th {\n",
       "        text-align: right;\n",
       "    }\n",
       "</style>\n",
       "<table border=\"1\" class=\"dataframe\">\n",
       "  <thead>\n",
       "    <tr style=\"text-align: right;\">\n",
       "      <th></th>\n",
       "      <th>movie_id</th>\n",
       "      <th>primary_title</th>\n",
       "      <th>original_title</th>\n",
       "      <th>start_year</th>\n",
       "      <th>runtime_minutes</th>\n",
       "      <th>genres</th>\n",
       "      <th>averagerating</th>\n",
       "      <th>numvotes</th>\n",
       "    </tr>\n",
       "  </thead>\n",
       "  <tbody>\n",
       "    <tr>\n",
       "      <th>73851</th>\n",
       "      <td>tt9913084</td>\n",
       "      <td>Diabolik sono io</td>\n",
       "      <td>Diabolik sono io</td>\n",
       "      <td>2019</td>\n",
       "      <td>75.0</td>\n",
       "      <td>Documentary</td>\n",
       "      <td>6.2</td>\n",
       "      <td>6</td>\n",
       "    </tr>\n",
       "    <tr>\n",
       "      <th>73852</th>\n",
       "      <td>tt9914286</td>\n",
       "      <td>Sokagin Çocuklari</td>\n",
       "      <td>Sokagin Çocuklari</td>\n",
       "      <td>2019</td>\n",
       "      <td>98.0</td>\n",
       "      <td>Drama,Family</td>\n",
       "      <td>8.7</td>\n",
       "      <td>136</td>\n",
       "    </tr>\n",
       "    <tr>\n",
       "      <th>73853</th>\n",
       "      <td>tt9914642</td>\n",
       "      <td>Albatross</td>\n",
       "      <td>Albatross</td>\n",
       "      <td>2017</td>\n",
       "      <td>NaN</td>\n",
       "      <td>Documentary</td>\n",
       "      <td>8.5</td>\n",
       "      <td>8</td>\n",
       "    </tr>\n",
       "    <tr>\n",
       "      <th>73854</th>\n",
       "      <td>tt9914942</td>\n",
       "      <td>La vida sense la Sara Amat</td>\n",
       "      <td>La vida sense la Sara Amat</td>\n",
       "      <td>2019</td>\n",
       "      <td>NaN</td>\n",
       "      <td>None</td>\n",
       "      <td>6.6</td>\n",
       "      <td>5</td>\n",
       "    </tr>\n",
       "    <tr>\n",
       "      <th>73855</th>\n",
       "      <td>tt9916160</td>\n",
       "      <td>Drømmeland</td>\n",
       "      <td>Drømmeland</td>\n",
       "      <td>2019</td>\n",
       "      <td>72.0</td>\n",
       "      <td>Documentary</td>\n",
       "      <td>6.5</td>\n",
       "      <td>11</td>\n",
       "    </tr>\n",
       "  </tbody>\n",
       "</table>\n",
       "</div>"
      ],
      "text/plain": [
       "        movie_id               primary_title              original_title  \\\n",
       "73851  tt9913084            Diabolik sono io            Diabolik sono io   \n",
       "73852  tt9914286           Sokagin Çocuklari           Sokagin Çocuklari   \n",
       "73853  tt9914642                   Albatross                   Albatross   \n",
       "73854  tt9914942  La vida sense la Sara Amat  La vida sense la Sara Amat   \n",
       "73855  tt9916160                  Drømmeland                  Drømmeland   \n",
       "\n",
       "       start_year  runtime_minutes        genres  averagerating  numvotes  \n",
       "73851        2019             75.0   Documentary            6.2         6  \n",
       "73852        2019             98.0  Drama,Family            8.7       136  \n",
       "73853        2017              NaN   Documentary            8.5         8  \n",
       "73854        2019              NaN          None            6.6         5  \n",
       "73855        2019             72.0   Documentary            6.5        11  "
      ]
     },
     "execution_count": 15,
     "metadata": {},
     "output_type": "execute_result"
    }
   ],
   "source": [
    "imdb_data.tail()"
   ]
  },
  {
   "cell_type": "code",
   "execution_count": 16,
   "metadata": {},
   "outputs": [
    {
     "data": {
      "text/plain": [
       "Index(['movie_id', 'primary_title', 'original_title', 'start_year',\n",
       "       'runtime_minutes', 'genres', 'averagerating', 'numvotes'],\n",
       "      dtype='object')"
      ]
     },
     "execution_count": 16,
     "metadata": {},
     "output_type": "execute_result"
    }
   ],
   "source": [
    "imdb_data.columns"
   ]
  },
  {
   "cell_type": "code",
   "execution_count": 17,
   "metadata": {},
   "outputs": [
    {
     "name": "stdout",
     "output_type": "stream",
     "text": [
      "<class 'pandas.core.frame.DataFrame'>\n",
      "RangeIndex: 73856 entries, 0 to 73855\n",
      "Data columns (total 8 columns):\n",
      " #   Column           Non-Null Count  Dtype  \n",
      "---  ------           --------------  -----  \n",
      " 0   movie_id         73856 non-null  object \n",
      " 1   primary_title    73856 non-null  object \n",
      " 2   original_title   73856 non-null  object \n",
      " 3   start_year       73856 non-null  int64  \n",
      " 4   runtime_minutes  66236 non-null  float64\n",
      " 5   genres           73052 non-null  object \n",
      " 6   averagerating    73856 non-null  float64\n",
      " 7   numvotes         73856 non-null  int64  \n",
      "dtypes: float64(2), int64(2), object(4)\n",
      "memory usage: 4.5+ MB\n"
     ]
    }
   ],
   "source": [
    "imdb_data.info()"
   ]
  },
  {
   "cell_type": "code",
   "execution_count": 18,
   "metadata": {},
   "outputs": [
    {
     "data": {
      "text/html": [
       "<div>\n",
       "<style scoped>\n",
       "    .dataframe tbody tr th:only-of-type {\n",
       "        vertical-align: middle;\n",
       "    }\n",
       "\n",
       "    .dataframe tbody tr th {\n",
       "        vertical-align: top;\n",
       "    }\n",
       "\n",
       "    .dataframe thead th {\n",
       "        text-align: right;\n",
       "    }\n",
       "</style>\n",
       "<table border=\"1\" class=\"dataframe\">\n",
       "  <thead>\n",
       "    <tr style=\"text-align: right;\">\n",
       "      <th></th>\n",
       "      <th>start_year</th>\n",
       "      <th>runtime_minutes</th>\n",
       "      <th>averagerating</th>\n",
       "      <th>numvotes</th>\n",
       "    </tr>\n",
       "  </thead>\n",
       "  <tbody>\n",
       "    <tr>\n",
       "      <th>count</th>\n",
       "      <td>73856.000000</td>\n",
       "      <td>66236.000000</td>\n",
       "      <td>73856.000000</td>\n",
       "      <td>7.385600e+04</td>\n",
       "    </tr>\n",
       "    <tr>\n",
       "      <th>mean</th>\n",
       "      <td>2014.276132</td>\n",
       "      <td>94.654040</td>\n",
       "      <td>6.332729</td>\n",
       "      <td>3.523662e+03</td>\n",
       "    </tr>\n",
       "    <tr>\n",
       "      <th>std</th>\n",
       "      <td>2.614807</td>\n",
       "      <td>208.574111</td>\n",
       "      <td>1.474978</td>\n",
       "      <td>3.029402e+04</td>\n",
       "    </tr>\n",
       "    <tr>\n",
       "      <th>min</th>\n",
       "      <td>2010.000000</td>\n",
       "      <td>3.000000</td>\n",
       "      <td>1.000000</td>\n",
       "      <td>5.000000e+00</td>\n",
       "    </tr>\n",
       "    <tr>\n",
       "      <th>25%</th>\n",
       "      <td>2012.000000</td>\n",
       "      <td>81.000000</td>\n",
       "      <td>5.500000</td>\n",
       "      <td>1.400000e+01</td>\n",
       "    </tr>\n",
       "    <tr>\n",
       "      <th>50%</th>\n",
       "      <td>2014.000000</td>\n",
       "      <td>91.000000</td>\n",
       "      <td>6.500000</td>\n",
       "      <td>4.900000e+01</td>\n",
       "    </tr>\n",
       "    <tr>\n",
       "      <th>75%</th>\n",
       "      <td>2016.000000</td>\n",
       "      <td>104.000000</td>\n",
       "      <td>7.400000</td>\n",
       "      <td>2.820000e+02</td>\n",
       "    </tr>\n",
       "    <tr>\n",
       "      <th>max</th>\n",
       "      <td>2019.000000</td>\n",
       "      <td>51420.000000</td>\n",
       "      <td>10.000000</td>\n",
       "      <td>1.841066e+06</td>\n",
       "    </tr>\n",
       "  </tbody>\n",
       "</table>\n",
       "</div>"
      ],
      "text/plain": [
       "         start_year  runtime_minutes  averagerating      numvotes\n",
       "count  73856.000000     66236.000000   73856.000000  7.385600e+04\n",
       "mean    2014.276132        94.654040       6.332729  3.523662e+03\n",
       "std        2.614807       208.574111       1.474978  3.029402e+04\n",
       "min     2010.000000         3.000000       1.000000  5.000000e+00\n",
       "25%     2012.000000        81.000000       5.500000  1.400000e+01\n",
       "50%     2014.000000        91.000000       6.500000  4.900000e+01\n",
       "75%     2016.000000       104.000000       7.400000  2.820000e+02\n",
       "max     2019.000000     51420.000000      10.000000  1.841066e+06"
      ]
     },
     "execution_count": 18,
     "metadata": {},
     "output_type": "execute_result"
    }
   ],
   "source": [
    "imdb_data.describe()"
   ]
  },
  {
   "cell_type": "markdown",
   "metadata": {},
   "source": [
    "The dataset contains movies since 2010 to 2019\n",
    "\n",
    "Average runtime is 94.654040 minutes...some outliers: 3 minutes minimum and 51,420 minutes maximum\n",
    "\n",
    "average ratings are 6.332729 and ratings go from 1 to 10"
   ]
  },
  {
   "cell_type": "code",
   "execution_count": 19,
   "metadata": {},
   "outputs": [
    {
     "data": {
      "text/plain": [
       "movie_id              0\n",
       "primary_title         0\n",
       "original_title        0\n",
       "start_year            0\n",
       "runtime_minutes    7620\n",
       "genres              804\n",
       "averagerating         0\n",
       "numvotes              0\n",
       "dtype: int64"
      ]
     },
     "execution_count": 19,
     "metadata": {},
     "output_type": "execute_result"
    }
   ],
   "source": [
    "imdb_data.isna().sum()"
   ]
  },
  {
   "cell_type": "markdown",
   "metadata": {},
   "source": [
    "There are missing Values in Runtime_minutes and Genres"
   ]
  },
  {
   "cell_type": "code",
   "execution_count": 20,
   "metadata": {},
   "outputs": [
    {
     "data": {
      "text/plain": [
       "genres\n",
       "Comedy,Musical,Sport          1.4\n",
       "Adult,Horror                  2.0\n",
       "History,Sci-Fi,Thriller       2.3\n",
       "Adventure,Crime,Romance       2.3\n",
       "Crime,Music                   2.4\n",
       "                             ... \n",
       "Music,Mystery                 9.0\n",
       "Game-Show                     9.0\n",
       "History,Sport                 9.2\n",
       "Documentary,Family,Musical    9.3\n",
       "Comedy,Documentary,Fantasy    9.4\n",
       "Name: averagerating, Length: 923, dtype: float64"
      ]
     },
     "execution_count": 20,
     "metadata": {},
     "output_type": "execute_result"
    }
   ],
   "source": [
    "mean_ratings= imdb_data.groupby(\"genres\")[\"averagerating\"].mean().sort_values()\n",
    "mean_ratings"
   ]
  },
  {
   "cell_type": "markdown",
   "metadata": {},
   "source": [
    "Highhest mean ratings are for Comedy, drama, Fantasy, lowest mean is for COmedy, Musical, Sport"
   ]
  },
  {
   "cell_type": "code",
   "execution_count": 21,
   "metadata": {},
   "outputs": [
    {
     "data": {
      "text/plain": [
       "0"
      ]
     },
     "execution_count": 21,
     "metadata": {},
     "output_type": "execute_result"
    }
   ],
   "source": [
    "dups= imdb_data.duplicated().any().sum()\n",
    "dups"
   ]
  },
  {
   "cell_type": "markdown",
   "metadata": {},
   "source": [
    "No duplicates to drop"
   ]
  },
  {
   "cell_type": "markdown",
   "metadata": {},
   "source": [
    "Dealing with missing data"
   ]
  },
  {
   "cell_type": "code",
   "execution_count": 22,
   "metadata": {},
   "outputs": [
    {
     "data": {
      "text/plain": [
       "movie_id           0.000000\n",
       "primary_title      0.000000\n",
       "original_title     0.000000\n",
       "start_year         0.000000\n",
       "runtime_minutes    0.103174\n",
       "genres             0.010886\n",
       "averagerating      0.000000\n",
       "numvotes           0.000000\n",
       "dtype: float64"
      ]
     },
     "execution_count": 22,
     "metadata": {},
     "output_type": "execute_result"
    }
   ],
   "source": [
    "imdb_data.isna().sum()/len(imdb_data)"
   ]
  },
  {
   "cell_type": "code",
   "execution_count": 23,
   "metadata": {},
   "outputs": [],
   "source": [
    "imdb_data[\"genres\"].fillna(\"unknown\", inplace=True)"
   ]
  },
  {
   "cell_type": "code",
   "execution_count": 24,
   "metadata": {},
   "outputs": [],
   "source": [
    "imdb_data.dropna(inplace=True)"
   ]
  },
  {
   "cell_type": "markdown",
   "metadata": {},
   "source": [
    "We have chosen to replace genres since it is categorical, and the data may still be useful, however\n",
    "we have dropped the rows that miss the runtime minutes, as we cannot assume a mean for its runtime...as this could skew our data"
   ]
  },
  {
   "cell_type": "code",
   "execution_count": 25,
   "metadata": {},
   "outputs": [],
   "source": [
    "imdb_data.rename(columns={'primary_title': 'title'}, inplace=True)"
   ]
  },
  {
   "cell_type": "code",
   "execution_count": 26,
   "metadata": {},
   "outputs": [],
   "source": [
    "imdb_data.rename(columns={'start_year': 'year'}, inplace=True)"
   ]
  },
  {
   "cell_type": "code",
   "execution_count": 27,
   "metadata": {},
   "outputs": [],
   "source": [
    "imdb_data.drop(columns=[\"movie_id\",\"original_title\"], inplace=True)"
   ]
  },
  {
   "cell_type": "markdown",
   "metadata": {},
   "source": [
    "Movie Id and Original title are not needed, the movie name is renamed to movie, and start year is renamed to Year"
   ]
  },
  {
   "cell_type": "code",
   "execution_count": 43,
   "metadata": {},
   "outputs": [
    {
     "data": {
      "text/html": [
       "<div>\n",
       "<style scoped>\n",
       "    .dataframe tbody tr th:only-of-type {\n",
       "        vertical-align: middle;\n",
       "    }\n",
       "\n",
       "    .dataframe tbody tr th {\n",
       "        vertical-align: top;\n",
       "    }\n",
       "\n",
       "    .dataframe thead th {\n",
       "        text-align: right;\n",
       "    }\n",
       "</style>\n",
       "<table border=\"1\" class=\"dataframe\">\n",
       "  <thead>\n",
       "    <tr style=\"text-align: right;\">\n",
       "      <th></th>\n",
       "      <th>title</th>\n",
       "      <th>year</th>\n",
       "      <th>runtime_minutes</th>\n",
       "      <th>genres</th>\n",
       "      <th>averagerating</th>\n",
       "      <th>numvotes</th>\n",
       "    </tr>\n",
       "  </thead>\n",
       "  <tbody>\n",
       "    <tr>\n",
       "      <th>0</th>\n",
       "      <td>Sunghursh</td>\n",
       "      <td>2013</td>\n",
       "      <td>175.0</td>\n",
       "      <td>Action,Crime,Drama</td>\n",
       "      <td>7.0</td>\n",
       "      <td>77</td>\n",
       "    </tr>\n",
       "    <tr>\n",
       "      <th>1</th>\n",
       "      <td>One Day Before the Rainy Season</td>\n",
       "      <td>2019</td>\n",
       "      <td>114.0</td>\n",
       "      <td>Biography,Drama</td>\n",
       "      <td>7.2</td>\n",
       "      <td>43</td>\n",
       "    </tr>\n",
       "    <tr>\n",
       "      <th>2</th>\n",
       "      <td>The Other Side of the Wind</td>\n",
       "      <td>2018</td>\n",
       "      <td>122.0</td>\n",
       "      <td>Drama</td>\n",
       "      <td>6.9</td>\n",
       "      <td>4517</td>\n",
       "    </tr>\n",
       "    <tr>\n",
       "      <th>4</th>\n",
       "      <td>The Wandering Soap Opera</td>\n",
       "      <td>2017</td>\n",
       "      <td>80.0</td>\n",
       "      <td>Comedy,Drama,Fantasy</td>\n",
       "      <td>6.5</td>\n",
       "      <td>119</td>\n",
       "    </tr>\n",
       "    <tr>\n",
       "      <th>6</th>\n",
       "      <td>Joe Finds Grace</td>\n",
       "      <td>2017</td>\n",
       "      <td>83.0</td>\n",
       "      <td>Adventure,Animation,Comedy</td>\n",
       "      <td>8.1</td>\n",
       "      <td>263</td>\n",
       "    </tr>\n",
       "    <tr>\n",
       "      <th>...</th>\n",
       "      <td>...</td>\n",
       "      <td>...</td>\n",
       "      <td>...</td>\n",
       "      <td>...</td>\n",
       "      <td>...</td>\n",
       "      <td>...</td>\n",
       "    </tr>\n",
       "    <tr>\n",
       "      <th>73849</th>\n",
       "      <td>Padmavyuhathile Abhimanyu</td>\n",
       "      <td>2019</td>\n",
       "      <td>130.0</td>\n",
       "      <td>Drama</td>\n",
       "      <td>8.4</td>\n",
       "      <td>365</td>\n",
       "    </tr>\n",
       "    <tr>\n",
       "      <th>73850</th>\n",
       "      <td>Swarm Season</td>\n",
       "      <td>2019</td>\n",
       "      <td>86.0</td>\n",
       "      <td>Documentary</td>\n",
       "      <td>6.2</td>\n",
       "      <td>5</td>\n",
       "    </tr>\n",
       "    <tr>\n",
       "      <th>73851</th>\n",
       "      <td>Diabolik sono io</td>\n",
       "      <td>2019</td>\n",
       "      <td>75.0</td>\n",
       "      <td>Documentary</td>\n",
       "      <td>6.2</td>\n",
       "      <td>6</td>\n",
       "    </tr>\n",
       "    <tr>\n",
       "      <th>73852</th>\n",
       "      <td>Sokagin Çocuklari</td>\n",
       "      <td>2019</td>\n",
       "      <td>98.0</td>\n",
       "      <td>Drama,Family</td>\n",
       "      <td>8.7</td>\n",
       "      <td>136</td>\n",
       "    </tr>\n",
       "    <tr>\n",
       "      <th>73855</th>\n",
       "      <td>Drømmeland</td>\n",
       "      <td>2019</td>\n",
       "      <td>72.0</td>\n",
       "      <td>Documentary</td>\n",
       "      <td>6.5</td>\n",
       "      <td>11</td>\n",
       "    </tr>\n",
       "  </tbody>\n",
       "</table>\n",
       "<p>66236 rows × 6 columns</p>\n",
       "</div>"
      ],
      "text/plain": [
       "                                 title  year  runtime_minutes  \\\n",
       "0                            Sunghursh  2013            175.0   \n",
       "1      One Day Before the Rainy Season  2019            114.0   \n",
       "2           The Other Side of the Wind  2018            122.0   \n",
       "4             The Wandering Soap Opera  2017             80.0   \n",
       "6                      Joe Finds Grace  2017             83.0   \n",
       "...                                ...   ...              ...   \n",
       "73849        Padmavyuhathile Abhimanyu  2019            130.0   \n",
       "73850                     Swarm Season  2019             86.0   \n",
       "73851                 Diabolik sono io  2019             75.0   \n",
       "73852                Sokagin Çocuklari  2019             98.0   \n",
       "73855                       Drømmeland  2019             72.0   \n",
       "\n",
       "                           genres  averagerating  numvotes  \n",
       "0              Action,Crime,Drama            7.0        77  \n",
       "1                 Biography,Drama            7.2        43  \n",
       "2                           Drama            6.9      4517  \n",
       "4            Comedy,Drama,Fantasy            6.5       119  \n",
       "6      Adventure,Animation,Comedy            8.1       263  \n",
       "...                           ...            ...       ...  \n",
       "73849                       Drama            8.4       365  \n",
       "73850                 Documentary            6.2         5  \n",
       "73851                 Documentary            6.2         6  \n",
       "73852                Drama,Family            8.7       136  \n",
       "73855                 Documentary            6.5        11  \n",
       "\n",
       "[66236 rows x 6 columns]"
      ]
     },
     "execution_count": 43,
     "metadata": {},
     "output_type": "execute_result"
    }
   ],
   "source": [
    "imdb_data"
   ]
  },
  {
   "cell_type": "markdown",
   "metadata": {},
   "source": [
    "### The Numbers"
   ]
  },
  {
   "cell_type": "code",
   "execution_count": 29,
   "metadata": {},
   "outputs": [
    {
     "data": {
      "text/html": [
       "<div>\n",
       "<style scoped>\n",
       "    .dataframe tbody tr th:only-of-type {\n",
       "        vertical-align: middle;\n",
       "    }\n",
       "\n",
       "    .dataframe tbody tr th {\n",
       "        vertical-align: top;\n",
       "    }\n",
       "\n",
       "    .dataframe thead th {\n",
       "        text-align: right;\n",
       "    }\n",
       "</style>\n",
       "<table border=\"1\" class=\"dataframe\">\n",
       "  <thead>\n",
       "    <tr style=\"text-align: right;\">\n",
       "      <th></th>\n",
       "      <th>release_date</th>\n",
       "      <th>movie</th>\n",
       "      <th>production_budget</th>\n",
       "      <th>domestic_gross</th>\n",
       "      <th>worldwide_gross</th>\n",
       "    </tr>\n",
       "    <tr>\n",
       "      <th>id</th>\n",
       "      <th></th>\n",
       "      <th></th>\n",
       "      <th></th>\n",
       "      <th></th>\n",
       "      <th></th>\n",
       "    </tr>\n",
       "  </thead>\n",
       "  <tbody>\n",
       "    <tr>\n",
       "      <th>1</th>\n",
       "      <td>Dec 18, 2009</td>\n",
       "      <td>Avatar</td>\n",
       "      <td>$425,000,000</td>\n",
       "      <td>$760,507,625</td>\n",
       "      <td>$2,776,345,279</td>\n",
       "    </tr>\n",
       "    <tr>\n",
       "      <th>2</th>\n",
       "      <td>May 20, 2011</td>\n",
       "      <td>Pirates of the Caribbean: On Stranger Tides</td>\n",
       "      <td>$410,600,000</td>\n",
       "      <td>$241,063,875</td>\n",
       "      <td>$1,045,663,875</td>\n",
       "    </tr>\n",
       "    <tr>\n",
       "      <th>3</th>\n",
       "      <td>Jun 7, 2019</td>\n",
       "      <td>Dark Phoenix</td>\n",
       "      <td>$350,000,000</td>\n",
       "      <td>$42,762,350</td>\n",
       "      <td>$149,762,350</td>\n",
       "    </tr>\n",
       "    <tr>\n",
       "      <th>4</th>\n",
       "      <td>May 1, 2015</td>\n",
       "      <td>Avengers: Age of Ultron</td>\n",
       "      <td>$330,600,000</td>\n",
       "      <td>$459,005,868</td>\n",
       "      <td>$1,403,013,963</td>\n",
       "    </tr>\n",
       "    <tr>\n",
       "      <th>5</th>\n",
       "      <td>Dec 15, 2017</td>\n",
       "      <td>Star Wars Ep. VIII: The Last Jedi</td>\n",
       "      <td>$317,000,000</td>\n",
       "      <td>$620,181,382</td>\n",
       "      <td>$1,316,721,747</td>\n",
       "    </tr>\n",
       "  </tbody>\n",
       "</table>\n",
       "</div>"
      ],
      "text/plain": [
       "    release_date                                        movie  \\\n",
       "id                                                              \n",
       "1   Dec 18, 2009                                       Avatar   \n",
       "2   May 20, 2011  Pirates of the Caribbean: On Stranger Tides   \n",
       "3    Jun 7, 2019                                 Dark Phoenix   \n",
       "4    May 1, 2015                      Avengers: Age of Ultron   \n",
       "5   Dec 15, 2017            Star Wars Ep. VIII: The Last Jedi   \n",
       "\n",
       "   production_budget domestic_gross worldwide_gross  \n",
       "id                                                   \n",
       "1       $425,000,000   $760,507,625  $2,776,345,279  \n",
       "2       $410,600,000   $241,063,875  $1,045,663,875  \n",
       "3       $350,000,000    $42,762,350    $149,762,350  \n",
       "4       $330,600,000   $459,005,868  $1,403,013,963  \n",
       "5       $317,000,000   $620,181,382  $1,316,721,747  "
      ]
     },
     "execution_count": 29,
     "metadata": {},
     "output_type": "execute_result"
    }
   ],
   "source": [
    "tn_data.head()"
   ]
  },
  {
   "cell_type": "code",
   "execution_count": 30,
   "metadata": {},
   "outputs": [
    {
     "name": "stdout",
     "output_type": "stream",
     "text": [
      "<class 'pandas.core.frame.DataFrame'>\n",
      "Int64Index: 5782 entries, 1 to 82\n",
      "Data columns (total 5 columns):\n",
      " #   Column             Non-Null Count  Dtype \n",
      "---  ------             --------------  ----- \n",
      " 0   release_date       5782 non-null   object\n",
      " 1   movie              5782 non-null   object\n",
      " 2   production_budget  5782 non-null   object\n",
      " 3   domestic_gross     5782 non-null   object\n",
      " 4   worldwide_gross    5782 non-null   object\n",
      "dtypes: object(5)\n",
      "memory usage: 271.0+ KB\n"
     ]
    }
   ],
   "source": [
    "tn_data.info()"
   ]
  },
  {
   "cell_type": "markdown",
   "metadata": {},
   "source": [
    "This dataset has no missing values,but the Dtypes do not match what is expected ie Release date, budgets and gross are not in the correct format, so we will change them to the correct one"
   ]
  },
  {
   "cell_type": "markdown",
   "metadata": {},
   "source": [
    "We strip the dollar signs and the commas first"
   ]
  },
  {
   "cell_type": "code",
   "execution_count": 31,
   "metadata": {},
   "outputs": [],
   "source": [
    "#use string method to replace dollar and comma with nothing\n",
    "tn_data['domestic_gross'] = tn_data['domestic_gross'].str.replace('$', '').str.replace(',', '')\n",
    "tn_data['production_budget'] = tn_data['production_budget'].str.replace('$', '').str.replace(',', '')\n",
    "tn_data['worldwide_gross'] = tn_data['worldwide_gross'].str.replace('$', '').str.replace(',', '')\n"
   ]
  },
  {
   "cell_type": "markdown",
   "metadata": {},
   "source": [
    "we then change the type of data for the columns"
   ]
  },
  {
   "cell_type": "code",
   "execution_count": 32,
   "metadata": {},
   "outputs": [
    {
     "name": "stdout",
     "output_type": "stream",
     "text": [
      "<class 'pandas.core.frame.DataFrame'>\n",
      "Int64Index: 5782 entries, 1 to 82\n",
      "Data columns (total 5 columns):\n",
      " #   Column             Non-Null Count  Dtype         \n",
      "---  ------             --------------  -----         \n",
      " 0   release_date       5782 non-null   datetime64[ns]\n",
      " 1   movie              5782 non-null   object        \n",
      " 2   production_budget  5782 non-null   int64         \n",
      " 3   domestic_gross     5782 non-null   int64         \n",
      " 4   worldwide_gross    5782 non-null   int64         \n",
      "dtypes: datetime64[ns](1), int64(3), object(1)\n",
      "memory usage: 271.0+ KB\n"
     ]
    }
   ],
   "source": [
    "tn_data[\"domestic_gross\"]=pd.to_numeric(tn_data[\"domestic_gross\"])\n",
    "tn_data[\"production_budget\"]=pd.to_numeric(tn_data[\"production_budget\"])\n",
    "tn_data[\"worldwide_gross\"]=pd.to_numeric(tn_data[\"worldwide_gross\"])\n",
    "tn_data['release_date'] = pd.to_datetime(tn_data['release_date'])\n",
    "\n",
    "tn_data.info()"
   ]
  },
  {
   "cell_type": "code",
   "execution_count": 33,
   "metadata": {},
   "outputs": [],
   "source": [
    "tn_data['year'] = tn_data['release_date'].dt.year"
   ]
  },
  {
   "cell_type": "markdown",
   "metadata": {},
   "source": [
    "Extracting year from release date, in case we need to group"
   ]
  },
  {
   "cell_type": "code",
   "execution_count": 34,
   "metadata": {},
   "outputs": [
    {
     "data": {
      "text/html": [
       "<div>\n",
       "<style scoped>\n",
       "    .dataframe tbody tr th:only-of-type {\n",
       "        vertical-align: middle;\n",
       "    }\n",
       "\n",
       "    .dataframe tbody tr th {\n",
       "        vertical-align: top;\n",
       "    }\n",
       "\n",
       "    .dataframe thead th {\n",
       "        text-align: right;\n",
       "    }\n",
       "</style>\n",
       "<table border=\"1\" class=\"dataframe\">\n",
       "  <thead>\n",
       "    <tr style=\"text-align: right;\">\n",
       "      <th></th>\n",
       "      <th>release_date</th>\n",
       "      <th>movie</th>\n",
       "      <th>production_budget</th>\n",
       "      <th>domestic_gross</th>\n",
       "      <th>worldwide_gross</th>\n",
       "      <th>year</th>\n",
       "    </tr>\n",
       "    <tr>\n",
       "      <th>id</th>\n",
       "      <th></th>\n",
       "      <th></th>\n",
       "      <th></th>\n",
       "      <th></th>\n",
       "      <th></th>\n",
       "      <th></th>\n",
       "    </tr>\n",
       "  </thead>\n",
       "  <tbody>\n",
       "    <tr>\n",
       "      <th>1</th>\n",
       "      <td>2009-12-18</td>\n",
       "      <td>Avatar</td>\n",
       "      <td>425000000</td>\n",
       "      <td>760507625</td>\n",
       "      <td>2776345279</td>\n",
       "      <td>2009</td>\n",
       "    </tr>\n",
       "    <tr>\n",
       "      <th>2</th>\n",
       "      <td>2011-05-20</td>\n",
       "      <td>Pirates of the Caribbean: On Stranger Tides</td>\n",
       "      <td>410600000</td>\n",
       "      <td>241063875</td>\n",
       "      <td>1045663875</td>\n",
       "      <td>2011</td>\n",
       "    </tr>\n",
       "    <tr>\n",
       "      <th>3</th>\n",
       "      <td>2019-06-07</td>\n",
       "      <td>Dark Phoenix</td>\n",
       "      <td>350000000</td>\n",
       "      <td>42762350</td>\n",
       "      <td>149762350</td>\n",
       "      <td>2019</td>\n",
       "    </tr>\n",
       "    <tr>\n",
       "      <th>4</th>\n",
       "      <td>2015-05-01</td>\n",
       "      <td>Avengers: Age of Ultron</td>\n",
       "      <td>330600000</td>\n",
       "      <td>459005868</td>\n",
       "      <td>1403013963</td>\n",
       "      <td>2015</td>\n",
       "    </tr>\n",
       "    <tr>\n",
       "      <th>5</th>\n",
       "      <td>2017-12-15</td>\n",
       "      <td>Star Wars Ep. VIII: The Last Jedi</td>\n",
       "      <td>317000000</td>\n",
       "      <td>620181382</td>\n",
       "      <td>1316721747</td>\n",
       "      <td>2017</td>\n",
       "    </tr>\n",
       "    <tr>\n",
       "      <th>...</th>\n",
       "      <td>...</td>\n",
       "      <td>...</td>\n",
       "      <td>...</td>\n",
       "      <td>...</td>\n",
       "      <td>...</td>\n",
       "      <td>...</td>\n",
       "    </tr>\n",
       "    <tr>\n",
       "      <th>78</th>\n",
       "      <td>2018-12-31</td>\n",
       "      <td>Red 11</td>\n",
       "      <td>7000</td>\n",
       "      <td>0</td>\n",
       "      <td>0</td>\n",
       "      <td>2018</td>\n",
       "    </tr>\n",
       "    <tr>\n",
       "      <th>79</th>\n",
       "      <td>1999-04-02</td>\n",
       "      <td>Following</td>\n",
       "      <td>6000</td>\n",
       "      <td>48482</td>\n",
       "      <td>240495</td>\n",
       "      <td>1999</td>\n",
       "    </tr>\n",
       "    <tr>\n",
       "      <th>80</th>\n",
       "      <td>2005-07-13</td>\n",
       "      <td>Return to the Land of Wonders</td>\n",
       "      <td>5000</td>\n",
       "      <td>1338</td>\n",
       "      <td>1338</td>\n",
       "      <td>2005</td>\n",
       "    </tr>\n",
       "    <tr>\n",
       "      <th>81</th>\n",
       "      <td>2015-09-29</td>\n",
       "      <td>A Plague So Pleasant</td>\n",
       "      <td>1400</td>\n",
       "      <td>0</td>\n",
       "      <td>0</td>\n",
       "      <td>2015</td>\n",
       "    </tr>\n",
       "    <tr>\n",
       "      <th>82</th>\n",
       "      <td>2005-08-05</td>\n",
       "      <td>My Date With Drew</td>\n",
       "      <td>1100</td>\n",
       "      <td>181041</td>\n",
       "      <td>181041</td>\n",
       "      <td>2005</td>\n",
       "    </tr>\n",
       "  </tbody>\n",
       "</table>\n",
       "<p>5782 rows × 6 columns</p>\n",
       "</div>"
      ],
      "text/plain": [
       "   release_date                                        movie  \\\n",
       "id                                                             \n",
       "1    2009-12-18                                       Avatar   \n",
       "2    2011-05-20  Pirates of the Caribbean: On Stranger Tides   \n",
       "3    2019-06-07                                 Dark Phoenix   \n",
       "4    2015-05-01                      Avengers: Age of Ultron   \n",
       "5    2017-12-15            Star Wars Ep. VIII: The Last Jedi   \n",
       "..          ...                                          ...   \n",
       "78   2018-12-31                                       Red 11   \n",
       "79   1999-04-02                                    Following   \n",
       "80   2005-07-13                Return to the Land of Wonders   \n",
       "81   2015-09-29                         A Plague So Pleasant   \n",
       "82   2005-08-05                            My Date With Drew   \n",
       "\n",
       "    production_budget  domestic_gross  worldwide_gross  year  \n",
       "id                                                            \n",
       "1           425000000       760507625       2776345279  2009  \n",
       "2           410600000       241063875       1045663875  2011  \n",
       "3           350000000        42762350        149762350  2019  \n",
       "4           330600000       459005868       1403013963  2015  \n",
       "5           317000000       620181382       1316721747  2017  \n",
       "..                ...             ...              ...   ...  \n",
       "78               7000               0                0  2018  \n",
       "79               6000           48482           240495  1999  \n",
       "80               5000            1338             1338  2005  \n",
       "81               1400               0                0  2015  \n",
       "82               1100          181041           181041  2005  \n",
       "\n",
       "[5782 rows x 6 columns]"
      ]
     },
     "execution_count": 34,
     "metadata": {},
     "output_type": "execute_result"
    }
   ],
   "source": [
    "tn_data"
   ]
  },
  {
   "cell_type": "code",
   "execution_count": 35,
   "metadata": {},
   "outputs": [],
   "source": [
    "gross_ww = tn_data.groupby(\"year\")[\"worldwide_gross\"].mean()"
   ]
  },
  {
   "cell_type": "code",
   "execution_count": 36,
   "metadata": {},
   "outputs": [
    {
     "data": {
      "text/plain": [
       "year\n",
       "1915    1.100000e+07\n",
       "1916    4.000000e+06\n",
       "1920    3.000000e+06\n",
       "1925    1.550000e+07\n",
       "1927    0.000000e+00\n",
       "            ...     \n",
       "2016    1.313614e+08\n",
       "2017    1.692240e+08\n",
       "2018    1.824786e+08\n",
       "2019    9.965411e+07\n",
       "2020    0.000000e+00\n",
       "Name: worldwide_gross, Length: 96, dtype: float64"
      ]
     },
     "execution_count": 36,
     "metadata": {},
     "output_type": "execute_result"
    }
   ],
   "source": [
    "gross_ww"
   ]
  },
  {
   "cell_type": "markdown",
   "metadata": {},
   "source": [
    "2020 has no gross, lets see whether it had movies"
   ]
  },
  {
   "cell_type": "code",
   "execution_count": 37,
   "metadata": {},
   "outputs": [
    {
     "data": {
      "text/html": [
       "<div>\n",
       "<style scoped>\n",
       "    .dataframe tbody tr th:only-of-type {\n",
       "        vertical-align: middle;\n",
       "    }\n",
       "\n",
       "    .dataframe tbody tr th {\n",
       "        vertical-align: top;\n",
       "    }\n",
       "\n",
       "    .dataframe thead th {\n",
       "        text-align: right;\n",
       "    }\n",
       "</style>\n",
       "<table border=\"1\" class=\"dataframe\">\n",
       "  <thead>\n",
       "    <tr style=\"text-align: right;\">\n",
       "      <th></th>\n",
       "      <th>release_date</th>\n",
       "      <th>movie</th>\n",
       "      <th>production_budget</th>\n",
       "      <th>domestic_gross</th>\n",
       "      <th>worldwide_gross</th>\n",
       "      <th>year</th>\n",
       "    </tr>\n",
       "    <tr>\n",
       "      <th>id</th>\n",
       "      <th></th>\n",
       "      <th></th>\n",
       "      <th></th>\n",
       "      <th></th>\n",
       "      <th></th>\n",
       "      <th></th>\n",
       "    </tr>\n",
       "  </thead>\n",
       "  <tbody>\n",
       "    <tr>\n",
       "      <th>95</th>\n",
       "      <td>2020-12-31</td>\n",
       "      <td>Moonfall</td>\n",
       "      <td>150000000</td>\n",
       "      <td>0</td>\n",
       "      <td>0</td>\n",
       "      <td>2020</td>\n",
       "    </tr>\n",
       "    <tr>\n",
       "      <th>36</th>\n",
       "      <td>2020-02-21</td>\n",
       "      <td>Call of the Wild</td>\n",
       "      <td>82000000</td>\n",
       "      <td>0</td>\n",
       "      <td>0</td>\n",
       "      <td>2020</td>\n",
       "    </tr>\n",
       "    <tr>\n",
       "      <th>6</th>\n",
       "      <td>2020-12-31</td>\n",
       "      <td>Hannibal the Conqueror</td>\n",
       "      <td>50000000</td>\n",
       "      <td>0</td>\n",
       "      <td>0</td>\n",
       "      <td>2020</td>\n",
       "    </tr>\n",
       "  </tbody>\n",
       "</table>\n",
       "</div>"
      ],
      "text/plain": [
       "   release_date                   movie  production_budget  domestic_gross  \\\n",
       "id                                                                           \n",
       "95   2020-12-31                Moonfall          150000000               0   \n",
       "36   2020-02-21        Call of the Wild           82000000               0   \n",
       "6    2020-12-31  Hannibal the Conqueror           50000000               0   \n",
       "\n",
       "    worldwide_gross  year  \n",
       "id                         \n",
       "95                0  2020  \n",
       "36                0  2020  \n",
       "6                 0  2020  "
      ]
     },
     "execution_count": 37,
     "metadata": {},
     "output_type": "execute_result"
    }
   ],
   "source": [
    "tn_data.loc[tn_data[\"year\"]==2020]"
   ]
  },
  {
   "cell_type": "markdown",
   "metadata": {},
   "source": [
    "Checking whether this is the only occurrence"
   ]
  },
  {
   "cell_type": "code",
   "execution_count": 38,
   "metadata": {},
   "outputs": [
    {
     "data": {
      "text/html": [
       "<div>\n",
       "<style scoped>\n",
       "    .dataframe tbody tr th:only-of-type {\n",
       "        vertical-align: middle;\n",
       "    }\n",
       "\n",
       "    .dataframe tbody tr th {\n",
       "        vertical-align: top;\n",
       "    }\n",
       "\n",
       "    .dataframe thead th {\n",
       "        text-align: right;\n",
       "    }\n",
       "</style>\n",
       "<table border=\"1\" class=\"dataframe\">\n",
       "  <thead>\n",
       "    <tr style=\"text-align: right;\">\n",
       "      <th></th>\n",
       "      <th>release_date</th>\n",
       "      <th>movie</th>\n",
       "      <th>production_budget</th>\n",
       "      <th>domestic_gross</th>\n",
       "      <th>worldwide_gross</th>\n",
       "      <th>year</th>\n",
       "    </tr>\n",
       "    <tr>\n",
       "      <th>id</th>\n",
       "      <th></th>\n",
       "      <th></th>\n",
       "      <th></th>\n",
       "      <th></th>\n",
       "      <th></th>\n",
       "      <th></th>\n",
       "    </tr>\n",
       "  </thead>\n",
       "  <tbody>\n",
       "    <tr>\n",
       "      <th>95</th>\n",
       "      <td>2020-12-31</td>\n",
       "      <td>Moonfall</td>\n",
       "      <td>150000000</td>\n",
       "      <td>0</td>\n",
       "      <td>0</td>\n",
       "      <td>2020</td>\n",
       "    </tr>\n",
       "    <tr>\n",
       "      <th>80</th>\n",
       "      <td>2017-12-13</td>\n",
       "      <td>Bright</td>\n",
       "      <td>90000000</td>\n",
       "      <td>0</td>\n",
       "      <td>0</td>\n",
       "      <td>2017</td>\n",
       "    </tr>\n",
       "    <tr>\n",
       "      <th>81</th>\n",
       "      <td>2019-12-31</td>\n",
       "      <td>Army of the Dead</td>\n",
       "      <td>90000000</td>\n",
       "      <td>0</td>\n",
       "      <td>0</td>\n",
       "      <td>2019</td>\n",
       "    </tr>\n",
       "    <tr>\n",
       "      <th>36</th>\n",
       "      <td>2020-02-21</td>\n",
       "      <td>Call of the Wild</td>\n",
       "      <td>82000000</td>\n",
       "      <td>0</td>\n",
       "      <td>0</td>\n",
       "      <td>2020</td>\n",
       "    </tr>\n",
       "    <tr>\n",
       "      <th>71</th>\n",
       "      <td>2019-08-30</td>\n",
       "      <td>PLAYMOBIL</td>\n",
       "      <td>75000000</td>\n",
       "      <td>0</td>\n",
       "      <td>0</td>\n",
       "      <td>2019</td>\n",
       "    </tr>\n",
       "    <tr>\n",
       "      <th>...</th>\n",
       "      <td>...</td>\n",
       "      <td>...</td>\n",
       "      <td>...</td>\n",
       "      <td>...</td>\n",
       "      <td>...</td>\n",
       "      <td>...</td>\n",
       "    </tr>\n",
       "    <tr>\n",
       "      <th>62</th>\n",
       "      <td>2014-12-31</td>\n",
       "      <td>Stories of Our Lives</td>\n",
       "      <td>15000</td>\n",
       "      <td>0</td>\n",
       "      <td>0</td>\n",
       "      <td>2014</td>\n",
       "    </tr>\n",
       "    <tr>\n",
       "      <th>65</th>\n",
       "      <td>2007-12-31</td>\n",
       "      <td>Tin Can Man</td>\n",
       "      <td>12000</td>\n",
       "      <td>0</td>\n",
       "      <td>0</td>\n",
       "      <td>2007</td>\n",
       "    </tr>\n",
       "    <tr>\n",
       "      <th>72</th>\n",
       "      <td>2015-05-19</td>\n",
       "      <td>Family Motocross</td>\n",
       "      <td>10000</td>\n",
       "      <td>0</td>\n",
       "      <td>0</td>\n",
       "      <td>2015</td>\n",
       "    </tr>\n",
       "    <tr>\n",
       "      <th>78</th>\n",
       "      <td>2018-12-31</td>\n",
       "      <td>Red 11</td>\n",
       "      <td>7000</td>\n",
       "      <td>0</td>\n",
       "      <td>0</td>\n",
       "      <td>2018</td>\n",
       "    </tr>\n",
       "    <tr>\n",
       "      <th>81</th>\n",
       "      <td>2015-09-29</td>\n",
       "      <td>A Plague So Pleasant</td>\n",
       "      <td>1400</td>\n",
       "      <td>0</td>\n",
       "      <td>0</td>\n",
       "      <td>2015</td>\n",
       "    </tr>\n",
       "  </tbody>\n",
       "</table>\n",
       "<p>367 rows × 6 columns</p>\n",
       "</div>"
      ],
      "text/plain": [
       "   release_date                 movie  production_budget  domestic_gross  \\\n",
       "id                                                                         \n",
       "95   2020-12-31              Moonfall          150000000               0   \n",
       "80   2017-12-13                Bright           90000000               0   \n",
       "81   2019-12-31      Army of the Dead           90000000               0   \n",
       "36   2020-02-21      Call of the Wild           82000000               0   \n",
       "71   2019-08-30             PLAYMOBIL           75000000               0   \n",
       "..          ...                   ...                ...             ...   \n",
       "62   2014-12-31  Stories of Our Lives              15000               0   \n",
       "65   2007-12-31           Tin Can Man              12000               0   \n",
       "72   2015-05-19      Family Motocross              10000               0   \n",
       "78   2018-12-31                Red 11               7000               0   \n",
       "81   2015-09-29  A Plague So Pleasant               1400               0   \n",
       "\n",
       "    worldwide_gross  year  \n",
       "id                         \n",
       "95                0  2020  \n",
       "80                0  2017  \n",
       "81                0  2019  \n",
       "36                0  2020  \n",
       "71                0  2019  \n",
       "..              ...   ...  \n",
       "62                0  2014  \n",
       "65                0  2007  \n",
       "72                0  2015  \n",
       "78                0  2018  \n",
       "81                0  2015  \n",
       "\n",
       "[367 rows x 6 columns]"
      ]
     },
     "execution_count": 38,
     "metadata": {},
     "output_type": "execute_result"
    }
   ],
   "source": [
    "tn_data.loc[tn_data[\"worldwide_gross\"]==0]"
   ]
  },
  {
   "cell_type": "markdown",
   "metadata": {},
   "source": [
    "This wont do, we need those worlwide and domestic grosses"
   ]
  },
  {
   "cell_type": "code",
   "execution_count": 39,
   "metadata": {},
   "outputs": [],
   "source": [
    "tn_data = tn_data[tn_data['worldwide_gross'] != 0]"
   ]
  },
  {
   "cell_type": "code",
   "execution_count": 40,
   "metadata": {},
   "outputs": [
    {
     "data": {
      "text/html": [
       "<div>\n",
       "<style scoped>\n",
       "    .dataframe tbody tr th:only-of-type {\n",
       "        vertical-align: middle;\n",
       "    }\n",
       "\n",
       "    .dataframe tbody tr th {\n",
       "        vertical-align: top;\n",
       "    }\n",
       "\n",
       "    .dataframe thead th {\n",
       "        text-align: right;\n",
       "    }\n",
       "</style>\n",
       "<table border=\"1\" class=\"dataframe\">\n",
       "  <thead>\n",
       "    <tr style=\"text-align: right;\">\n",
       "      <th></th>\n",
       "      <th>release_date</th>\n",
       "      <th>movie</th>\n",
       "      <th>production_budget</th>\n",
       "      <th>domestic_gross</th>\n",
       "      <th>worldwide_gross</th>\n",
       "      <th>year</th>\n",
       "    </tr>\n",
       "    <tr>\n",
       "      <th>id</th>\n",
       "      <th></th>\n",
       "      <th></th>\n",
       "      <th></th>\n",
       "      <th></th>\n",
       "      <th></th>\n",
       "      <th></th>\n",
       "    </tr>\n",
       "  </thead>\n",
       "  <tbody>\n",
       "  </tbody>\n",
       "</table>\n",
       "</div>"
      ],
      "text/plain": [
       "Empty DataFrame\n",
       "Columns: [release_date, movie, production_budget, domestic_gross, worldwide_gross, year]\n",
       "Index: []"
      ]
     },
     "execution_count": 40,
     "metadata": {},
     "output_type": "execute_result"
    }
   ],
   "source": [
    "tn_data.loc[tn_data[\"worldwide_gross\"]==0]"
   ]
  },
  {
   "cell_type": "markdown",
   "metadata": {},
   "source": [
    "We drop all those 367 records"
   ]
  },
  {
   "cell_type": "code",
   "execution_count": 44,
   "metadata": {},
   "outputs": [
    {
     "name": "stderr",
     "output_type": "stream",
     "text": [
      "C:\\Users\\Steve\\anaconda3\\envs\\learn-env\\lib\\site-packages\\pandas\\core\\frame.py:4296: SettingWithCopyWarning: \n",
      "A value is trying to be set on a copy of a slice from a DataFrame\n",
      "\n",
      "See the caveats in the documentation: https://pandas.pydata.org/pandas-docs/stable/user_guide/indexing.html#returning-a-view-versus-a-copy\n",
      "  return super().rename(\n"
     ]
    }
   ],
   "source": [
    "tn_data.rename(columns={'movie': 'title'}, inplace=True)"
   ]
  },
  {
   "cell_type": "code",
   "execution_count": 45,
   "metadata": {},
   "outputs": [
    {
     "data": {
      "text/html": [
       "<div>\n",
       "<style scoped>\n",
       "    .dataframe tbody tr th:only-of-type {\n",
       "        vertical-align: middle;\n",
       "    }\n",
       "\n",
       "    .dataframe tbody tr th {\n",
       "        vertical-align: top;\n",
       "    }\n",
       "\n",
       "    .dataframe thead th {\n",
       "        text-align: right;\n",
       "    }\n",
       "</style>\n",
       "<table border=\"1\" class=\"dataframe\">\n",
       "  <thead>\n",
       "    <tr style=\"text-align: right;\">\n",
       "      <th></th>\n",
       "      <th>release_date</th>\n",
       "      <th>title</th>\n",
       "      <th>production_budget</th>\n",
       "      <th>domestic_gross</th>\n",
       "      <th>worldwide_gross</th>\n",
       "      <th>year</th>\n",
       "    </tr>\n",
       "    <tr>\n",
       "      <th>id</th>\n",
       "      <th></th>\n",
       "      <th></th>\n",
       "      <th></th>\n",
       "      <th></th>\n",
       "      <th></th>\n",
       "      <th></th>\n",
       "    </tr>\n",
       "  </thead>\n",
       "  <tbody>\n",
       "    <tr>\n",
       "      <th>1</th>\n",
       "      <td>2009-12-18</td>\n",
       "      <td>Avatar</td>\n",
       "      <td>425000000</td>\n",
       "      <td>760507625</td>\n",
       "      <td>2776345279</td>\n",
       "      <td>2009</td>\n",
       "    </tr>\n",
       "    <tr>\n",
       "      <th>2</th>\n",
       "      <td>2011-05-20</td>\n",
       "      <td>Pirates of the Caribbean: On Stranger Tides</td>\n",
       "      <td>410600000</td>\n",
       "      <td>241063875</td>\n",
       "      <td>1045663875</td>\n",
       "      <td>2011</td>\n",
       "    </tr>\n",
       "    <tr>\n",
       "      <th>3</th>\n",
       "      <td>2019-06-07</td>\n",
       "      <td>Dark Phoenix</td>\n",
       "      <td>350000000</td>\n",
       "      <td>42762350</td>\n",
       "      <td>149762350</td>\n",
       "      <td>2019</td>\n",
       "    </tr>\n",
       "    <tr>\n",
       "      <th>4</th>\n",
       "      <td>2015-05-01</td>\n",
       "      <td>Avengers: Age of Ultron</td>\n",
       "      <td>330600000</td>\n",
       "      <td>459005868</td>\n",
       "      <td>1403013963</td>\n",
       "      <td>2015</td>\n",
       "    </tr>\n",
       "    <tr>\n",
       "      <th>5</th>\n",
       "      <td>2017-12-15</td>\n",
       "      <td>Star Wars Ep. VIII: The Last Jedi</td>\n",
       "      <td>317000000</td>\n",
       "      <td>620181382</td>\n",
       "      <td>1316721747</td>\n",
       "      <td>2017</td>\n",
       "    </tr>\n",
       "    <tr>\n",
       "      <th>...</th>\n",
       "      <td>...</td>\n",
       "      <td>...</td>\n",
       "      <td>...</td>\n",
       "      <td>...</td>\n",
       "      <td>...</td>\n",
       "      <td>...</td>\n",
       "    </tr>\n",
       "    <tr>\n",
       "      <th>76</th>\n",
       "      <td>2006-05-26</td>\n",
       "      <td>Cavite</td>\n",
       "      <td>7000</td>\n",
       "      <td>70071</td>\n",
       "      <td>71644</td>\n",
       "      <td>2006</td>\n",
       "    </tr>\n",
       "    <tr>\n",
       "      <th>77</th>\n",
       "      <td>2004-12-31</td>\n",
       "      <td>The Mongol King</td>\n",
       "      <td>7000</td>\n",
       "      <td>900</td>\n",
       "      <td>900</td>\n",
       "      <td>2004</td>\n",
       "    </tr>\n",
       "    <tr>\n",
       "      <th>79</th>\n",
       "      <td>1999-04-02</td>\n",
       "      <td>Following</td>\n",
       "      <td>6000</td>\n",
       "      <td>48482</td>\n",
       "      <td>240495</td>\n",
       "      <td>1999</td>\n",
       "    </tr>\n",
       "    <tr>\n",
       "      <th>80</th>\n",
       "      <td>2005-07-13</td>\n",
       "      <td>Return to the Land of Wonders</td>\n",
       "      <td>5000</td>\n",
       "      <td>1338</td>\n",
       "      <td>1338</td>\n",
       "      <td>2005</td>\n",
       "    </tr>\n",
       "    <tr>\n",
       "      <th>82</th>\n",
       "      <td>2005-08-05</td>\n",
       "      <td>My Date With Drew</td>\n",
       "      <td>1100</td>\n",
       "      <td>181041</td>\n",
       "      <td>181041</td>\n",
       "      <td>2005</td>\n",
       "    </tr>\n",
       "  </tbody>\n",
       "</table>\n",
       "<p>5415 rows × 6 columns</p>\n",
       "</div>"
      ],
      "text/plain": [
       "   release_date                                        title  \\\n",
       "id                                                             \n",
       "1    2009-12-18                                       Avatar   \n",
       "2    2011-05-20  Pirates of the Caribbean: On Stranger Tides   \n",
       "3    2019-06-07                                 Dark Phoenix   \n",
       "4    2015-05-01                      Avengers: Age of Ultron   \n",
       "5    2017-12-15            Star Wars Ep. VIII: The Last Jedi   \n",
       "..          ...                                          ...   \n",
       "76   2006-05-26                                       Cavite   \n",
       "77   2004-12-31                              The Mongol King   \n",
       "79   1999-04-02                                    Following   \n",
       "80   2005-07-13                Return to the Land of Wonders   \n",
       "82   2005-08-05                            My Date With Drew   \n",
       "\n",
       "    production_budget  domestic_gross  worldwide_gross  year  \n",
       "id                                                            \n",
       "1           425000000       760507625       2776345279  2009  \n",
       "2           410600000       241063875       1045663875  2011  \n",
       "3           350000000        42762350        149762350  2019  \n",
       "4           330600000       459005868       1403013963  2015  \n",
       "5           317000000       620181382       1316721747  2017  \n",
       "..                ...             ...              ...   ...  \n",
       "76               7000           70071            71644  2006  \n",
       "77               7000             900              900  2004  \n",
       "79               6000           48482           240495  1999  \n",
       "80               5000            1338             1338  2005  \n",
       "82               1100          181041           181041  2005  \n",
       "\n",
       "[5415 rows x 6 columns]"
      ]
     },
     "execution_count": 45,
     "metadata": {},
     "output_type": "execute_result"
    }
   ],
   "source": [
    "tn_data"
   ]
  },
  {
   "cell_type": "markdown",
   "metadata": {},
   "source": [
    "The data is now cleaner"
   ]
  },
  {
   "cell_type": "markdown",
   "metadata": {},
   "source": [
    "# 4) Merging the Datasets"
   ]
  },
  {
   "cell_type": "code",
   "execution_count": 49,
   "metadata": {},
   "outputs": [],
   "source": [
    "merged_data = imdb_data.merge(bom_data, on=['title', 'year']).merge(tn_data, on=['title', 'year'])"
   ]
  },
  {
   "cell_type": "code",
   "execution_count": 50,
   "metadata": {},
   "outputs": [
    {
     "data": {
      "text/html": [
       "<div>\n",
       "<style scoped>\n",
       "    .dataframe tbody tr th:only-of-type {\n",
       "        vertical-align: middle;\n",
       "    }\n",
       "\n",
       "    .dataframe tbody tr th {\n",
       "        vertical-align: top;\n",
       "    }\n",
       "\n",
       "    .dataframe thead th {\n",
       "        text-align: right;\n",
       "    }\n",
       "</style>\n",
       "<table border=\"1\" class=\"dataframe\">\n",
       "  <thead>\n",
       "    <tr style=\"text-align: right;\">\n",
       "      <th></th>\n",
       "      <th>title</th>\n",
       "      <th>year</th>\n",
       "      <th>runtime_minutes</th>\n",
       "      <th>genres</th>\n",
       "      <th>averagerating</th>\n",
       "      <th>numvotes</th>\n",
       "      <th>studio</th>\n",
       "      <th>domestic_gross_x</th>\n",
       "      <th>release_date</th>\n",
       "      <th>production_budget</th>\n",
       "      <th>domestic_gross_y</th>\n",
       "      <th>worldwide_gross</th>\n",
       "    </tr>\n",
       "  </thead>\n",
       "  <tbody>\n",
       "    <tr>\n",
       "      <th>0</th>\n",
       "      <td>The Secret Life of Walter Mitty</td>\n",
       "      <td>2013</td>\n",
       "      <td>114.0</td>\n",
       "      <td>Adventure,Comedy,Drama</td>\n",
       "      <td>7.3</td>\n",
       "      <td>275300</td>\n",
       "      <td>Fox</td>\n",
       "      <td>58200000.0</td>\n",
       "      <td>2013-12-25</td>\n",
       "      <td>91000000</td>\n",
       "      <td>58236838</td>\n",
       "      <td>187861183</td>\n",
       "    </tr>\n",
       "    <tr>\n",
       "      <th>1</th>\n",
       "      <td>A Walk Among the Tombstones</td>\n",
       "      <td>2014</td>\n",
       "      <td>114.0</td>\n",
       "      <td>Action,Crime,Drama</td>\n",
       "      <td>6.5</td>\n",
       "      <td>105116</td>\n",
       "      <td>Uni.</td>\n",
       "      <td>26300000.0</td>\n",
       "      <td>2014-09-19</td>\n",
       "      <td>28000000</td>\n",
       "      <td>26017685</td>\n",
       "      <td>62108587</td>\n",
       "    </tr>\n",
       "    <tr>\n",
       "      <th>2</th>\n",
       "      <td>Jurassic World</td>\n",
       "      <td>2015</td>\n",
       "      <td>124.0</td>\n",
       "      <td>Action,Adventure,Sci-Fi</td>\n",
       "      <td>7.0</td>\n",
       "      <td>539338</td>\n",
       "      <td>Uni.</td>\n",
       "      <td>652300000.0</td>\n",
       "      <td>2015-06-12</td>\n",
       "      <td>215000000</td>\n",
       "      <td>652270625</td>\n",
       "      <td>1648854864</td>\n",
       "    </tr>\n",
       "    <tr>\n",
       "      <th>3</th>\n",
       "      <td>The Rum Diary</td>\n",
       "      <td>2011</td>\n",
       "      <td>119.0</td>\n",
       "      <td>Comedy,Drama</td>\n",
       "      <td>6.2</td>\n",
       "      <td>94787</td>\n",
       "      <td>FD</td>\n",
       "      <td>13100000.0</td>\n",
       "      <td>2011-10-28</td>\n",
       "      <td>45000000</td>\n",
       "      <td>13109815</td>\n",
       "      <td>21544732</td>\n",
       "    </tr>\n",
       "    <tr>\n",
       "      <th>4</th>\n",
       "      <td>The Three Stooges</td>\n",
       "      <td>2012</td>\n",
       "      <td>92.0</td>\n",
       "      <td>Comedy,Family</td>\n",
       "      <td>5.1</td>\n",
       "      <td>28570</td>\n",
       "      <td>Fox</td>\n",
       "      <td>44300000.0</td>\n",
       "      <td>2012-04-13</td>\n",
       "      <td>30000000</td>\n",
       "      <td>44338224</td>\n",
       "      <td>54052249</td>\n",
       "    </tr>\n",
       "    <tr>\n",
       "      <th>...</th>\n",
       "      <td>...</td>\n",
       "      <td>...</td>\n",
       "      <td>...</td>\n",
       "      <td>...</td>\n",
       "      <td>...</td>\n",
       "      <td>...</td>\n",
       "      <td>...</td>\n",
       "      <td>...</td>\n",
       "      <td>...</td>\n",
       "      <td>...</td>\n",
       "      <td>...</td>\n",
       "      <td>...</td>\n",
       "    </tr>\n",
       "    <tr>\n",
       "      <th>1034</th>\n",
       "      <td>Paul, Apostle of Christ</td>\n",
       "      <td>2018</td>\n",
       "      <td>108.0</td>\n",
       "      <td>Adventure,Biography,Drama</td>\n",
       "      <td>6.7</td>\n",
       "      <td>5662</td>\n",
       "      <td>Affirm</td>\n",
       "      <td>17600000.0</td>\n",
       "      <td>2018-03-23</td>\n",
       "      <td>5000000</td>\n",
       "      <td>17547999</td>\n",
       "      <td>25529498</td>\n",
       "    </tr>\n",
       "    <tr>\n",
       "      <th>1035</th>\n",
       "      <td>Instant Family</td>\n",
       "      <td>2018</td>\n",
       "      <td>118.0</td>\n",
       "      <td>Comedy,Drama</td>\n",
       "      <td>7.4</td>\n",
       "      <td>46728</td>\n",
       "      <td>Par.</td>\n",
       "      <td>67400000.0</td>\n",
       "      <td>2018-11-16</td>\n",
       "      <td>48000000</td>\n",
       "      <td>67363237</td>\n",
       "      <td>119736188</td>\n",
       "    </tr>\n",
       "    <tr>\n",
       "      <th>1036</th>\n",
       "      <td>The Great Wall</td>\n",
       "      <td>2017</td>\n",
       "      <td>72.0</td>\n",
       "      <td>Documentary</td>\n",
       "      <td>6.5</td>\n",
       "      <td>24</td>\n",
       "      <td>Uni.</td>\n",
       "      <td>45500000.0</td>\n",
       "      <td>2017-02-17</td>\n",
       "      <td>150000000</td>\n",
       "      <td>45157105</td>\n",
       "      <td>334486852</td>\n",
       "    </tr>\n",
       "    <tr>\n",
       "      <th>1037</th>\n",
       "      <td>Hereditary</td>\n",
       "      <td>2018</td>\n",
       "      <td>127.0</td>\n",
       "      <td>Drama,Horror,Mystery</td>\n",
       "      <td>7.3</td>\n",
       "      <td>151571</td>\n",
       "      <td>A24</td>\n",
       "      <td>44100000.0</td>\n",
       "      <td>2018-06-08</td>\n",
       "      <td>10000000</td>\n",
       "      <td>44069456</td>\n",
       "      <td>70133905</td>\n",
       "    </tr>\n",
       "    <tr>\n",
       "      <th>1038</th>\n",
       "      <td>The Mule</td>\n",
       "      <td>2018</td>\n",
       "      <td>116.0</td>\n",
       "      <td>Crime,Drama,Thriller</td>\n",
       "      <td>7.1</td>\n",
       "      <td>58955</td>\n",
       "      <td>WB</td>\n",
       "      <td>103800000.0</td>\n",
       "      <td>2018-12-14</td>\n",
       "      <td>50000000</td>\n",
       "      <td>103804407</td>\n",
       "      <td>170857676</td>\n",
       "    </tr>\n",
       "  </tbody>\n",
       "</table>\n",
       "<p>1039 rows × 12 columns</p>\n",
       "</div>"
      ],
      "text/plain": [
       "                                title  year  runtime_minutes  \\\n",
       "0     The Secret Life of Walter Mitty  2013            114.0   \n",
       "1         A Walk Among the Tombstones  2014            114.0   \n",
       "2                      Jurassic World  2015            124.0   \n",
       "3                       The Rum Diary  2011            119.0   \n",
       "4                   The Three Stooges  2012             92.0   \n",
       "...                               ...   ...              ...   \n",
       "1034          Paul, Apostle of Christ  2018            108.0   \n",
       "1035                   Instant Family  2018            118.0   \n",
       "1036                   The Great Wall  2017             72.0   \n",
       "1037                       Hereditary  2018            127.0   \n",
       "1038                         The Mule  2018            116.0   \n",
       "\n",
       "                         genres  averagerating  numvotes  studio  \\\n",
       "0        Adventure,Comedy,Drama            7.3    275300     Fox   \n",
       "1            Action,Crime,Drama            6.5    105116    Uni.   \n",
       "2       Action,Adventure,Sci-Fi            7.0    539338    Uni.   \n",
       "3                  Comedy,Drama            6.2     94787      FD   \n",
       "4                 Comedy,Family            5.1     28570     Fox   \n",
       "...                         ...            ...       ...     ...   \n",
       "1034  Adventure,Biography,Drama            6.7      5662  Affirm   \n",
       "1035               Comedy,Drama            7.4     46728    Par.   \n",
       "1036                Documentary            6.5        24    Uni.   \n",
       "1037       Drama,Horror,Mystery            7.3    151571     A24   \n",
       "1038       Crime,Drama,Thriller            7.1     58955      WB   \n",
       "\n",
       "      domestic_gross_x release_date  production_budget  domestic_gross_y  \\\n",
       "0           58200000.0   2013-12-25           91000000          58236838   \n",
       "1           26300000.0   2014-09-19           28000000          26017685   \n",
       "2          652300000.0   2015-06-12          215000000         652270625   \n",
       "3           13100000.0   2011-10-28           45000000          13109815   \n",
       "4           44300000.0   2012-04-13           30000000          44338224   \n",
       "...                ...          ...                ...               ...   \n",
       "1034        17600000.0   2018-03-23            5000000          17547999   \n",
       "1035        67400000.0   2018-11-16           48000000          67363237   \n",
       "1036        45500000.0   2017-02-17          150000000          45157105   \n",
       "1037        44100000.0   2018-06-08           10000000          44069456   \n",
       "1038       103800000.0   2018-12-14           50000000         103804407   \n",
       "\n",
       "      worldwide_gross  \n",
       "0           187861183  \n",
       "1            62108587  \n",
       "2          1648854864  \n",
       "3            21544732  \n",
       "4            54052249  \n",
       "...               ...  \n",
       "1034         25529498  \n",
       "1035        119736188  \n",
       "1036        334486852  \n",
       "1037         70133905  \n",
       "1038        170857676  \n",
       "\n",
       "[1039 rows x 12 columns]"
      ]
     },
     "execution_count": 50,
     "metadata": {},
     "output_type": "execute_result"
    }
   ],
   "source": [
    "merged_data"
   ]
  },
  {
   "cell_type": "code",
   "execution_count": 53,
   "metadata": {},
   "outputs": [
    {
     "data": {
      "text/plain": [
       "Index(['title', 'year', 'runtime_minutes', 'genres', 'averagerating',\n",
       "       'numvotes', 'studio', 'domestic_gross_x', 'release_date',\n",
       "       'production_budget', 'domestic_gross_y', 'worldwide_gross'],\n",
       "      dtype='object')"
      ]
     },
     "execution_count": 53,
     "metadata": {},
     "output_type": "execute_result"
    }
   ],
   "source": [
    "merged_data.columns"
   ]
  },
  {
   "cell_type": "code",
   "execution_count": 54,
   "metadata": {},
   "outputs": [
    {
     "name": "stdout",
     "output_type": "stream",
     "text": [
      "<class 'pandas.core.frame.DataFrame'>\n",
      "Int64Index: 1039 entries, 0 to 1038\n",
      "Data columns (total 12 columns):\n",
      " #   Column             Non-Null Count  Dtype         \n",
      "---  ------             --------------  -----         \n",
      " 0   title              1039 non-null   object        \n",
      " 1   year               1039 non-null   int64         \n",
      " 2   runtime_minutes    1039 non-null   float64       \n",
      " 3   genres             1039 non-null   object        \n",
      " 4   averagerating      1039 non-null   float64       \n",
      " 5   numvotes           1039 non-null   int64         \n",
      " 6   studio             1039 non-null   object        \n",
      " 7   domestic_gross_x   1039 non-null   float64       \n",
      " 8   release_date       1039 non-null   datetime64[ns]\n",
      " 9   production_budget  1039 non-null   int64         \n",
      " 10  domestic_gross_y   1039 non-null   int64         \n",
      " 11  worldwide_gross    1039 non-null   int64         \n",
      "dtypes: datetime64[ns](1), float64(3), int64(5), object(3)\n",
      "memory usage: 105.5+ KB\n"
     ]
    }
   ],
   "source": [
    "merged_data.info()"
   ]
  },
  {
   "cell_type": "markdown",
   "metadata": {},
   "source": [
    "# 7) Visualizing the data"
   ]
  },
  {
   "cell_type": "code",
   "execution_count": 68,
   "metadata": {},
   "outputs": [
    {
     "data": {
      "text/plain": [
       "averagerating        1.000000\n",
       "domestic_gross_x     0.292718\n",
       "domestic_gross_y     0.292750\n",
       "numvotes             0.517907\n",
       "production_budget    0.168339\n",
       "runtime_minutes      0.406148\n",
       "worldwide_gross      0.278457\n",
       "year                 0.024619\n",
       "Name: averagerating, dtype: float64"
      ]
     },
     "execution_count": 68,
     "metadata": {},
     "output_type": "execute_result"
    }
   ],
   "source": [
    "corrs = merged_df.corr()\n",
    "corrs[\"averagerating\"].sort_index()"
   ]
  },
  {
   "cell_type": "code",
   "execution_count": 69,
   "metadata": {},
   "outputs": [
    {
     "data": {
      "text/html": [
       "<div>\n",
       "<style scoped>\n",
       "    .dataframe tbody tr th:only-of-type {\n",
       "        vertical-align: middle;\n",
       "    }\n",
       "\n",
       "    .dataframe tbody tr th {\n",
       "        vertical-align: top;\n",
       "    }\n",
       "\n",
       "    .dataframe thead th {\n",
       "        text-align: right;\n",
       "    }\n",
       "</style>\n",
       "<table border=\"1\" class=\"dataframe\">\n",
       "  <thead>\n",
       "    <tr style=\"text-align: right;\">\n",
       "      <th></th>\n",
       "      <th>year</th>\n",
       "      <th>runtime_minutes</th>\n",
       "      <th>averagerating</th>\n",
       "      <th>numvotes</th>\n",
       "      <th>domestic_gross_x</th>\n",
       "      <th>production_budget</th>\n",
       "      <th>domestic_gross_y</th>\n",
       "      <th>worldwide_gross</th>\n",
       "    </tr>\n",
       "  </thead>\n",
       "  <tbody>\n",
       "    <tr>\n",
       "      <th>year</th>\n",
       "      <td>1.000000</td>\n",
       "      <td>0.117873</td>\n",
       "      <td>0.024619</td>\n",
       "      <td>-0.092889</td>\n",
       "      <td>0.104557</td>\n",
       "      <td>0.053264</td>\n",
       "      <td>0.104553</td>\n",
       "      <td>0.116616</td>\n",
       "    </tr>\n",
       "    <tr>\n",
       "      <th>runtime_minutes</th>\n",
       "      <td>0.117873</td>\n",
       "      <td>1.000000</td>\n",
       "      <td>0.406148</td>\n",
       "      <td>0.413304</td>\n",
       "      <td>0.276495</td>\n",
       "      <td>0.337804</td>\n",
       "      <td>0.276426</td>\n",
       "      <td>0.297700</td>\n",
       "    </tr>\n",
       "    <tr>\n",
       "      <th>averagerating</th>\n",
       "      <td>0.024619</td>\n",
       "      <td>0.406148</td>\n",
       "      <td>1.000000</td>\n",
       "      <td>0.517907</td>\n",
       "      <td>0.292718</td>\n",
       "      <td>0.168339</td>\n",
       "      <td>0.292750</td>\n",
       "      <td>0.278457</td>\n",
       "    </tr>\n",
       "    <tr>\n",
       "      <th>numvotes</th>\n",
       "      <td>-0.092889</td>\n",
       "      <td>0.413304</td>\n",
       "      <td>0.517907</td>\n",
       "      <td>1.000000</td>\n",
       "      <td>0.637405</td>\n",
       "      <td>0.514512</td>\n",
       "      <td>0.637399</td>\n",
       "      <td>0.621866</td>\n",
       "    </tr>\n",
       "    <tr>\n",
       "      <th>domestic_gross_x</th>\n",
       "      <td>0.104557</td>\n",
       "      <td>0.276495</td>\n",
       "      <td>0.292718</td>\n",
       "      <td>0.637405</td>\n",
       "      <td>1.000000</td>\n",
       "      <td>0.694491</td>\n",
       "      <td>0.999997</td>\n",
       "      <td>0.937926</td>\n",
       "    </tr>\n",
       "    <tr>\n",
       "      <th>production_budget</th>\n",
       "      <td>0.053264</td>\n",
       "      <td>0.337804</td>\n",
       "      <td>0.168339</td>\n",
       "      <td>0.514512</td>\n",
       "      <td>0.694491</td>\n",
       "      <td>1.000000</td>\n",
       "      <td>0.694416</td>\n",
       "      <td>0.778029</td>\n",
       "    </tr>\n",
       "    <tr>\n",
       "      <th>domestic_gross_y</th>\n",
       "      <td>0.104553</td>\n",
       "      <td>0.276426</td>\n",
       "      <td>0.292750</td>\n",
       "      <td>0.637399</td>\n",
       "      <td>0.999997</td>\n",
       "      <td>0.694416</td>\n",
       "      <td>1.000000</td>\n",
       "      <td>0.937880</td>\n",
       "    </tr>\n",
       "    <tr>\n",
       "      <th>worldwide_gross</th>\n",
       "      <td>0.116616</td>\n",
       "      <td>0.297700</td>\n",
       "      <td>0.278457</td>\n",
       "      <td>0.621866</td>\n",
       "      <td>0.937926</td>\n",
       "      <td>0.778029</td>\n",
       "      <td>0.937880</td>\n",
       "      <td>1.000000</td>\n",
       "    </tr>\n",
       "  </tbody>\n",
       "</table>\n",
       "</div>"
      ],
      "text/plain": [
       "                       year  runtime_minutes  averagerating  numvotes  \\\n",
       "year               1.000000         0.117873       0.024619 -0.092889   \n",
       "runtime_minutes    0.117873         1.000000       0.406148  0.413304   \n",
       "averagerating      0.024619         0.406148       1.000000  0.517907   \n",
       "numvotes          -0.092889         0.413304       0.517907  1.000000   \n",
       "domestic_gross_x   0.104557         0.276495       0.292718  0.637405   \n",
       "production_budget  0.053264         0.337804       0.168339  0.514512   \n",
       "domestic_gross_y   0.104553         0.276426       0.292750  0.637399   \n",
       "worldwide_gross    0.116616         0.297700       0.278457  0.621866   \n",
       "\n",
       "                   domestic_gross_x  production_budget  domestic_gross_y  \\\n",
       "year                       0.104557           0.053264          0.104553   \n",
       "runtime_minutes            0.276495           0.337804          0.276426   \n",
       "averagerating              0.292718           0.168339          0.292750   \n",
       "numvotes                   0.637405           0.514512          0.637399   \n",
       "domestic_gross_x           1.000000           0.694491          0.999997   \n",
       "production_budget          0.694491           1.000000          0.694416   \n",
       "domestic_gross_y           0.999997           0.694416          1.000000   \n",
       "worldwide_gross            0.937926           0.778029          0.937880   \n",
       "\n",
       "                   worldwide_gross  \n",
       "year                      0.116616  \n",
       "runtime_minutes           0.297700  \n",
       "averagerating             0.278457  \n",
       "numvotes                  0.621866  \n",
       "domestic_gross_x          0.937926  \n",
       "production_budget         0.778029  \n",
       "domestic_gross_y          0.937880  \n",
       "worldwide_gross           1.000000  "
      ]
     },
     "execution_count": 69,
     "metadata": {},
     "output_type": "execute_result"
    }
   ],
   "source": [
    "corrs"
   ]
  },
  {
   "cell_type": "markdown",
   "metadata": {},
   "source": [
    "Strongest correlations are: production budget and worldwide gross, runtime and rating have a weaker correlation "
   ]
  },
  {
   "cell_type": "code",
   "execution_count": 70,
   "metadata": {},
   "outputs": [
    {
     "data": {
      "text/plain": [
       "averagerating        0.168339\n",
       "domestic_gross_x     0.694491\n",
       "domestic_gross_y     0.694416\n",
       "numvotes             0.514512\n",
       "production_budget    1.000000\n",
       "runtime_minutes      0.337804\n",
       "worldwide_gross      0.778029\n",
       "year                 0.053264\n",
       "Name: production_budget, dtype: float64"
      ]
     },
     "execution_count": 70,
     "metadata": {},
     "output_type": "execute_result"
    }
   ],
   "source": [
    "corrs[\"production_budget\"].sort_index()"
   ]
  },
  {
   "cell_type": "markdown",
   "metadata": {},
   "source": [
    "### Rating vs Runtime"
   ]
  },
  {
   "cell_type": "code",
   "execution_count": 78,
   "metadata": {},
   "outputs": [
    {
     "data": {
      "image/png": "[encoded data removed]",
      "text/plain": [
       "<Figure size 864x504 with 1 Axes>"
      ]
     },
     "metadata": {
      "needs_background": "light"
     },
     "output_type": "display_data"
    }
   ],
   "source": [
    "# # Set plot size\n",
    "plt.figure(figsize=(12, 7))\n",
    "\n",
    "# Plot the first graph\n",
    "plt.subplot()\n",
    "sns.scatterplot(x='runtime_minutes', y='averagerating', data=merged_data, color=\"purple\")\n",
    "plt.title('Runtime vs Rating')\n",
    "plt.ticklabel_format(style='plain', axis='both')\n",
    "plt.tight_layout()\n",
    "plt.show()"
   ]
  },
  {
   "cell_type": "markdown",
   "metadata": {},
   "source": [
    "Runtime that is normal is 80 minutes to 140 minutes, and ratings are in the 6-8 range"
   ]
  },
  {
   "cell_type": "markdown",
   "metadata": {},
   "source": [
    "## Production Budget vs worldwide gross"
   ]
  },
  {
   "cell_type": "code",
   "execution_count": 79,
   "metadata": {},
   "outputs": [
    {
     "data": {
      "image/png": "[encoded data removed]",
      "text/plain": [
       "<Figure size 1080x720 with 1 Axes>"
      ]
     },
     "metadata": {
      "needs_background": "light"
     },
     "output_type": "display_data"
    }
   ],
   "source": [
    "plt.figure(figsize=(15,10))\n",
    "sns.scatterplot(x='production_budget', y='worldwide_gross', data=merged_df, alpha=0.5, color=\"orange\")\n",
    "plt.title('Production Budget vs. Worldwide Gross')\n",
    "plt.xlabel('Production Budget')\n",
    "plt.ylabel('Worldwide Gross')\n",
    "plt.show()\n"
   ]
  },
  {
   "cell_type": "markdown",
   "metadata": {},
   "source": [
    "The more budget increases, the more gross earnings worldwide"
   ]
  },
  {
   "cell_type": "markdown",
   "metadata": {},
   "source": [
    "### Check the Genres that are popular in rating"
   ]
  },
  {
   "cell_type": "code",
   "execution_count": 90,
   "metadata": {},
   "outputs": [
    {
     "data": {
      "image/png": "[encoded data removed]",
      "text/plain": [
       "<Figure size 864x360 with 2 Axes>"
      ]
     },
     "metadata": {
      "needs_background": "light"
     },
     "output_type": "display_data"
    }
   ],
   "source": [
    "# Grouping by genre and calculate mean rating\n",
    "genre_ratings = merged_data.groupby('genres')['averagerating'].mean()\n",
    "\n",
    "# Sorting by rating and get top/bottom 10 genres\n",
    "top_genres = genre_ratings.sort_values(ascending=False)[:10]\n",
    "bottom_genres = genre_ratings.sort_values()[:10]\n",
    "\n",
    "#bar plot\n",
    "fig, axes = plt.subplots(ncols=2, figsize=(12, 5))\n",
    "ax1, ax2 = axes\n",
    "\n",
    "top_genres.plot(kind='bar', ax=ax1, color=\"green\")\n",
    "ax1.set_title('Top 10 Genres by Average Rating')\n",
    "ax1.set_ylabel('Average Rating')\n",
    "\n",
    "bottom_genres.plot(kind='bar', ax=ax2, color=\"red\")\n",
    "ax2.set_title('Bottom 10 Genres by Average Rating')\n",
    "ax2.set_ylabel('Average Rating')\n",
    "\n",
    "plt.tight_layout()\n",
    "plt.show()\n"
   ]
  },
  {
   "cell_type": "code",
   "execution_count": 89,
   "metadata": {},
   "outputs": [
    {
     "data": {
      "text/plain": [
       "genres\n",
       "Crime,Documentary          8.3\n",
       "Adventure,Drama,Sci-Fi     8.3\n",
       "Action,Drama               8.2\n",
       "Mystery,Thriller           8.1\n",
       "Action,Comedy,Drama        8.0\n",
       "Action,Sci-Fi              7.9\n",
       "Biography,Drama,Musical    7.6\n",
       "Adventure,Drama,Western    7.6\n",
       "Drama,History,Thriller     7.6\n",
       "Drama,Western              7.5\n",
       "Name: averagerating, dtype: float64"
      ]
     },
     "execution_count": 89,
     "metadata": {},
     "output_type": "execute_result"
    }
   ],
   "source": [
    "top_genres"
   ]
  },
  {
   "cell_type": "markdown",
   "metadata": {},
   "source": [
    "## Conclusion and Recommendations"
   ]
  },
  {
   "cell_type": "markdown",
   "metadata": {},
   "source": [
    "\n",
    "### Budget for best returns\n",
    "\n",
    "100 million should be the goal if we want a good return, however, smaller projects can be done if they are able to hit the 7-8 rating, even though it has a weak positive correlation with both domestic and worldwide gross, \n",
    "\n",
    "### Genres to invest into for best ratings\n",
    "\n",
    "Crime,Documentary          \n",
    "Adventure,Drama,Sci-Fi     \n",
    "Action,Drama               \n",
    "Mystery,Thriller           \n",
    "Action,Comedy,Drama        \n",
    "Action,Sci-Fi              \n",
    "Biography,Drama,Musical    \n",
    "Adventure,Drama,Western    \n",
    "Drama,History,Thriller     \n",
    "Drama,Western              \n",
    "\n",
    "### Runtime\n",
    "-Rating has a strong positive correlation with the runtime of the movie, the dirstibution is clustered within a value range of 80 to 140 minutes, hence a runtime of that range will suffice for normal movies.\n",
    "\n",
    "Documentaries may be longer though"
   ]
  }
 ],
 "metadata": {
  "kernelspec": {
   "display_name": "Python 3",
   "language": "python",
   "name": "python3"
  },
  "language_info": {
   "codemirror_mode": {
    "name": "ipython",
    "version": 3
   },
   "file_extension": ".py",
   "mimetype": "text/x-python",
   "name": "python",
   "nbconvert_exporter": "python",
   "pygments_lexer": "ipython3",
   "version": "3.8.5"
  }
 },
 "nbformat": 4,
 "nbformat_minor": 2
}
